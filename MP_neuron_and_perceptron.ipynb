{
  "nbformat": 4,
  "nbformat_minor": 0,
  "metadata": {
    "colab": {
      "name": "MP neuron and perceptron.ipynb",
      "version": "0.3.2",
      "provenance": [],
      "include_colab_link": true
    },
    "kernelspec": {
      "name": "python3",
      "display_name": "Python 3"
    }
  },
  "cells": [
    {
      "cell_type": "markdown",
      "metadata": {
        "id": "view-in-github",
        "colab_type": "text"
      },
      "source": [
        "<a href=\"https://colab.research.google.com/github/KaranamLokesh/care-medico/blob/master/MP_neuron_and_perceptron.ipynb\" target=\"_parent\"><img src=\"https://colab.research.google.com/assets/colab-badge.svg\" alt=\"Open In Colab\"/></a>"
      ]
    },
    {
      "metadata": {
        "id": "YYjRCsyF-V3O",
        "colab_type": "text"
      },
      "cell_type": "markdown",
      "source": [
        "# Loading data"
      ]
    },
    {
      "metadata": {
        "id": "SkHD_vDh-aw2",
        "colab_type": "text"
      },
      "cell_type": "markdown",
      "source": [
        ""
      ]
    },
    {
      "metadata": {
        "id": "pacTf1Fz7gr0",
        "colab_type": "code",
        "colab": {}
      },
      "cell_type": "code",
      "source": [
        "import sklearn.datasets\n",
        "import numpy as np"
      ],
      "execution_count": 0,
      "outputs": []
    },
    {
      "metadata": {
        "id": "f7LUSUW67xtl",
        "colab_type": "code",
        "colab": {}
      },
      "cell_type": "code",
      "source": [
        "breast_cancer = sklearn.datasets.load_breast_cancer()"
      ],
      "execution_count": 0,
      "outputs": []
    },
    {
      "metadata": {
        "id": "q_1fBaHl8FNk",
        "colab_type": "code",
        "colab": {}
      },
      "cell_type": "code",
      "source": [
        "X = breast_cancer.data\n",
        "Y = breast_cancer.target"
      ],
      "execution_count": 0,
      "outputs": []
    },
    {
      "metadata": {
        "id": "yNHAG5wH8aKK",
        "colab_type": "code",
        "colab": {}
      },
      "cell_type": "code",
      "source": [
        "import pandas as pd"
      ],
      "execution_count": 0,
      "outputs": []
    },
    {
      "metadata": {
        "id": "DNhUZg9f8sEj",
        "colab_type": "code",
        "colab": {}
      },
      "cell_type": "code",
      "source": [
        "data = pd.DataFrame(breast_cancer.data,columns=breast_cancer.feature_names)"
      ],
      "execution_count": 0,
      "outputs": []
    },
    {
      "metadata": {
        "id": "u0B9n9PF9BAz",
        "colab_type": "code",
        "colab": {}
      },
      "cell_type": "code",
      "source": [
        "data['class']=breast_cancer.target"
      ],
      "execution_count": 0,
      "outputs": []
    },
    {
      "metadata": {
        "id": "hBZ49SnV9KmU",
        "colab_type": "code",
        "colab": {
          "base_uri": "https://localhost:8080/",
          "height": 287
        },
        "outputId": "3c6d1b1c-3c7e-4209-8fd3-d816cc7a6fe1"
      },
      "cell_type": "code",
      "source": [
        "data.head()"
      ],
      "execution_count": 7,
      "outputs": [
        {
          "output_type": "execute_result",
          "data": {
            "text/html": [
              "<div>\n",
              "<style scoped>\n",
              "    .dataframe tbody tr th:only-of-type {\n",
              "        vertical-align: middle;\n",
              "    }\n",
              "\n",
              "    .dataframe tbody tr th {\n",
              "        vertical-align: top;\n",
              "    }\n",
              "\n",
              "    .dataframe thead th {\n",
              "        text-align: right;\n",
              "    }\n",
              "</style>\n",
              "<table border=\"1\" class=\"dataframe\">\n",
              "  <thead>\n",
              "    <tr style=\"text-align: right;\">\n",
              "      <th></th>\n",
              "      <th>mean radius</th>\n",
              "      <th>mean texture</th>\n",
              "      <th>mean perimeter</th>\n",
              "      <th>mean area</th>\n",
              "      <th>mean smoothness</th>\n",
              "      <th>mean compactness</th>\n",
              "      <th>mean concavity</th>\n",
              "      <th>mean concave points</th>\n",
              "      <th>mean symmetry</th>\n",
              "      <th>mean fractal dimension</th>\n",
              "      <th>...</th>\n",
              "      <th>worst texture</th>\n",
              "      <th>worst perimeter</th>\n",
              "      <th>worst area</th>\n",
              "      <th>worst smoothness</th>\n",
              "      <th>worst compactness</th>\n",
              "      <th>worst concavity</th>\n",
              "      <th>worst concave points</th>\n",
              "      <th>worst symmetry</th>\n",
              "      <th>worst fractal dimension</th>\n",
              "      <th>class</th>\n",
              "    </tr>\n",
              "  </thead>\n",
              "  <tbody>\n",
              "    <tr>\n",
              "      <th>0</th>\n",
              "      <td>17.99</td>\n",
              "      <td>10.38</td>\n",
              "      <td>122.80</td>\n",
              "      <td>1001.0</td>\n",
              "      <td>0.11840</td>\n",
              "      <td>0.27760</td>\n",
              "      <td>0.3001</td>\n",
              "      <td>0.14710</td>\n",
              "      <td>0.2419</td>\n",
              "      <td>0.07871</td>\n",
              "      <td>...</td>\n",
              "      <td>17.33</td>\n",
              "      <td>184.60</td>\n",
              "      <td>2019.0</td>\n",
              "      <td>0.1622</td>\n",
              "      <td>0.6656</td>\n",
              "      <td>0.7119</td>\n",
              "      <td>0.2654</td>\n",
              "      <td>0.4601</td>\n",
              "      <td>0.11890</td>\n",
              "      <td>0</td>\n",
              "    </tr>\n",
              "    <tr>\n",
              "      <th>1</th>\n",
              "      <td>20.57</td>\n",
              "      <td>17.77</td>\n",
              "      <td>132.90</td>\n",
              "      <td>1326.0</td>\n",
              "      <td>0.08474</td>\n",
              "      <td>0.07864</td>\n",
              "      <td>0.0869</td>\n",
              "      <td>0.07017</td>\n",
              "      <td>0.1812</td>\n",
              "      <td>0.05667</td>\n",
              "      <td>...</td>\n",
              "      <td>23.41</td>\n",
              "      <td>158.80</td>\n",
              "      <td>1956.0</td>\n",
              "      <td>0.1238</td>\n",
              "      <td>0.1866</td>\n",
              "      <td>0.2416</td>\n",
              "      <td>0.1860</td>\n",
              "      <td>0.2750</td>\n",
              "      <td>0.08902</td>\n",
              "      <td>0</td>\n",
              "    </tr>\n",
              "    <tr>\n",
              "      <th>2</th>\n",
              "      <td>19.69</td>\n",
              "      <td>21.25</td>\n",
              "      <td>130.00</td>\n",
              "      <td>1203.0</td>\n",
              "      <td>0.10960</td>\n",
              "      <td>0.15990</td>\n",
              "      <td>0.1974</td>\n",
              "      <td>0.12790</td>\n",
              "      <td>0.2069</td>\n",
              "      <td>0.05999</td>\n",
              "      <td>...</td>\n",
              "      <td>25.53</td>\n",
              "      <td>152.50</td>\n",
              "      <td>1709.0</td>\n",
              "      <td>0.1444</td>\n",
              "      <td>0.4245</td>\n",
              "      <td>0.4504</td>\n",
              "      <td>0.2430</td>\n",
              "      <td>0.3613</td>\n",
              "      <td>0.08758</td>\n",
              "      <td>0</td>\n",
              "    </tr>\n",
              "    <tr>\n",
              "      <th>3</th>\n",
              "      <td>11.42</td>\n",
              "      <td>20.38</td>\n",
              "      <td>77.58</td>\n",
              "      <td>386.1</td>\n",
              "      <td>0.14250</td>\n",
              "      <td>0.28390</td>\n",
              "      <td>0.2414</td>\n",
              "      <td>0.10520</td>\n",
              "      <td>0.2597</td>\n",
              "      <td>0.09744</td>\n",
              "      <td>...</td>\n",
              "      <td>26.50</td>\n",
              "      <td>98.87</td>\n",
              "      <td>567.7</td>\n",
              "      <td>0.2098</td>\n",
              "      <td>0.8663</td>\n",
              "      <td>0.6869</td>\n",
              "      <td>0.2575</td>\n",
              "      <td>0.6638</td>\n",
              "      <td>0.17300</td>\n",
              "      <td>0</td>\n",
              "    </tr>\n",
              "    <tr>\n",
              "      <th>4</th>\n",
              "      <td>20.29</td>\n",
              "      <td>14.34</td>\n",
              "      <td>135.10</td>\n",
              "      <td>1297.0</td>\n",
              "      <td>0.10030</td>\n",
              "      <td>0.13280</td>\n",
              "      <td>0.1980</td>\n",
              "      <td>0.10430</td>\n",
              "      <td>0.1809</td>\n",
              "      <td>0.05883</td>\n",
              "      <td>...</td>\n",
              "      <td>16.67</td>\n",
              "      <td>152.20</td>\n",
              "      <td>1575.0</td>\n",
              "      <td>0.1374</td>\n",
              "      <td>0.2050</td>\n",
              "      <td>0.4000</td>\n",
              "      <td>0.1625</td>\n",
              "      <td>0.2364</td>\n",
              "      <td>0.07678</td>\n",
              "      <td>0</td>\n",
              "    </tr>\n",
              "  </tbody>\n",
              "</table>\n",
              "<p>5 rows × 31 columns</p>\n",
              "</div>"
            ],
            "text/plain": [
              "   mean radius  mean texture  mean perimeter  mean area  mean smoothness  \\\n",
              "0        17.99         10.38          122.80     1001.0          0.11840   \n",
              "1        20.57         17.77          132.90     1326.0          0.08474   \n",
              "2        19.69         21.25          130.00     1203.0          0.10960   \n",
              "3        11.42         20.38           77.58      386.1          0.14250   \n",
              "4        20.29         14.34          135.10     1297.0          0.10030   \n",
              "\n",
              "   mean compactness  mean concavity  mean concave points  mean symmetry  \\\n",
              "0           0.27760          0.3001              0.14710         0.2419   \n",
              "1           0.07864          0.0869              0.07017         0.1812   \n",
              "2           0.15990          0.1974              0.12790         0.2069   \n",
              "3           0.28390          0.2414              0.10520         0.2597   \n",
              "4           0.13280          0.1980              0.10430         0.1809   \n",
              "\n",
              "   mean fractal dimension  ...    worst texture  worst perimeter  worst area  \\\n",
              "0                 0.07871  ...            17.33           184.60      2019.0   \n",
              "1                 0.05667  ...            23.41           158.80      1956.0   \n",
              "2                 0.05999  ...            25.53           152.50      1709.0   \n",
              "3                 0.09744  ...            26.50            98.87       567.7   \n",
              "4                 0.05883  ...            16.67           152.20      1575.0   \n",
              "\n",
              "   worst smoothness  worst compactness  worst concavity  worst concave points  \\\n",
              "0            0.1622             0.6656           0.7119                0.2654   \n",
              "1            0.1238             0.1866           0.2416                0.1860   \n",
              "2            0.1444             0.4245           0.4504                0.2430   \n",
              "3            0.2098             0.8663           0.6869                0.2575   \n",
              "4            0.1374             0.2050           0.4000                0.1625   \n",
              "\n",
              "   worst symmetry  worst fractal dimension  class  \n",
              "0          0.4601                  0.11890      0  \n",
              "1          0.2750                  0.08902      0  \n",
              "2          0.3613                  0.08758      0  \n",
              "3          0.6638                  0.17300      0  \n",
              "4          0.2364                  0.07678      0  \n",
              "\n",
              "[5 rows x 31 columns]"
            ]
          },
          "metadata": {
            "tags": []
          },
          "execution_count": 7
        }
      ]
    },
    {
      "metadata": {
        "id": "8J9G0I-I9PBT",
        "colab_type": "code",
        "colab": {
          "base_uri": "https://localhost:8080/",
          "height": 380
        },
        "outputId": "e0c19639-3131-42df-810e-e987ec236bbd"
      },
      "cell_type": "code",
      "source": [
        "data.describe()"
      ],
      "execution_count": 8,
      "outputs": [
        {
          "output_type": "execute_result",
          "data": {
            "text/html": [
              "<div>\n",
              "<style scoped>\n",
              "    .dataframe tbody tr th:only-of-type {\n",
              "        vertical-align: middle;\n",
              "    }\n",
              "\n",
              "    .dataframe tbody tr th {\n",
              "        vertical-align: top;\n",
              "    }\n",
              "\n",
              "    .dataframe thead th {\n",
              "        text-align: right;\n",
              "    }\n",
              "</style>\n",
              "<table border=\"1\" class=\"dataframe\">\n",
              "  <thead>\n",
              "    <tr style=\"text-align: right;\">\n",
              "      <th></th>\n",
              "      <th>mean radius</th>\n",
              "      <th>mean texture</th>\n",
              "      <th>mean perimeter</th>\n",
              "      <th>mean area</th>\n",
              "      <th>mean smoothness</th>\n",
              "      <th>mean compactness</th>\n",
              "      <th>mean concavity</th>\n",
              "      <th>mean concave points</th>\n",
              "      <th>mean symmetry</th>\n",
              "      <th>mean fractal dimension</th>\n",
              "      <th>...</th>\n",
              "      <th>worst texture</th>\n",
              "      <th>worst perimeter</th>\n",
              "      <th>worst area</th>\n",
              "      <th>worst smoothness</th>\n",
              "      <th>worst compactness</th>\n",
              "      <th>worst concavity</th>\n",
              "      <th>worst concave points</th>\n",
              "      <th>worst symmetry</th>\n",
              "      <th>worst fractal dimension</th>\n",
              "      <th>class</th>\n",
              "    </tr>\n",
              "  </thead>\n",
              "  <tbody>\n",
              "    <tr>\n",
              "      <th>count</th>\n",
              "      <td>569.000000</td>\n",
              "      <td>569.000000</td>\n",
              "      <td>569.000000</td>\n",
              "      <td>569.000000</td>\n",
              "      <td>569.000000</td>\n",
              "      <td>569.000000</td>\n",
              "      <td>569.000000</td>\n",
              "      <td>569.000000</td>\n",
              "      <td>569.000000</td>\n",
              "      <td>569.000000</td>\n",
              "      <td>...</td>\n",
              "      <td>569.000000</td>\n",
              "      <td>569.000000</td>\n",
              "      <td>569.000000</td>\n",
              "      <td>569.000000</td>\n",
              "      <td>569.000000</td>\n",
              "      <td>569.000000</td>\n",
              "      <td>569.000000</td>\n",
              "      <td>569.000000</td>\n",
              "      <td>569.000000</td>\n",
              "      <td>569.000000</td>\n",
              "    </tr>\n",
              "    <tr>\n",
              "      <th>mean</th>\n",
              "      <td>14.127292</td>\n",
              "      <td>19.289649</td>\n",
              "      <td>91.969033</td>\n",
              "      <td>654.889104</td>\n",
              "      <td>0.096360</td>\n",
              "      <td>0.104341</td>\n",
              "      <td>0.088799</td>\n",
              "      <td>0.048919</td>\n",
              "      <td>0.181162</td>\n",
              "      <td>0.062798</td>\n",
              "      <td>...</td>\n",
              "      <td>25.677223</td>\n",
              "      <td>107.261213</td>\n",
              "      <td>880.583128</td>\n",
              "      <td>0.132369</td>\n",
              "      <td>0.254265</td>\n",
              "      <td>0.272188</td>\n",
              "      <td>0.114606</td>\n",
              "      <td>0.290076</td>\n",
              "      <td>0.083946</td>\n",
              "      <td>0.627417</td>\n",
              "    </tr>\n",
              "    <tr>\n",
              "      <th>std</th>\n",
              "      <td>3.524049</td>\n",
              "      <td>4.301036</td>\n",
              "      <td>24.298981</td>\n",
              "      <td>351.914129</td>\n",
              "      <td>0.014064</td>\n",
              "      <td>0.052813</td>\n",
              "      <td>0.079720</td>\n",
              "      <td>0.038803</td>\n",
              "      <td>0.027414</td>\n",
              "      <td>0.007060</td>\n",
              "      <td>...</td>\n",
              "      <td>6.146258</td>\n",
              "      <td>33.602542</td>\n",
              "      <td>569.356993</td>\n",
              "      <td>0.022832</td>\n",
              "      <td>0.157336</td>\n",
              "      <td>0.208624</td>\n",
              "      <td>0.065732</td>\n",
              "      <td>0.061867</td>\n",
              "      <td>0.018061</td>\n",
              "      <td>0.483918</td>\n",
              "    </tr>\n",
              "    <tr>\n",
              "      <th>min</th>\n",
              "      <td>6.981000</td>\n",
              "      <td>9.710000</td>\n",
              "      <td>43.790000</td>\n",
              "      <td>143.500000</td>\n",
              "      <td>0.052630</td>\n",
              "      <td>0.019380</td>\n",
              "      <td>0.000000</td>\n",
              "      <td>0.000000</td>\n",
              "      <td>0.106000</td>\n",
              "      <td>0.049960</td>\n",
              "      <td>...</td>\n",
              "      <td>12.020000</td>\n",
              "      <td>50.410000</td>\n",
              "      <td>185.200000</td>\n",
              "      <td>0.071170</td>\n",
              "      <td>0.027290</td>\n",
              "      <td>0.000000</td>\n",
              "      <td>0.000000</td>\n",
              "      <td>0.156500</td>\n",
              "      <td>0.055040</td>\n",
              "      <td>0.000000</td>\n",
              "    </tr>\n",
              "    <tr>\n",
              "      <th>25%</th>\n",
              "      <td>11.700000</td>\n",
              "      <td>16.170000</td>\n",
              "      <td>75.170000</td>\n",
              "      <td>420.300000</td>\n",
              "      <td>0.086370</td>\n",
              "      <td>0.064920</td>\n",
              "      <td>0.029560</td>\n",
              "      <td>0.020310</td>\n",
              "      <td>0.161900</td>\n",
              "      <td>0.057700</td>\n",
              "      <td>...</td>\n",
              "      <td>21.080000</td>\n",
              "      <td>84.110000</td>\n",
              "      <td>515.300000</td>\n",
              "      <td>0.116600</td>\n",
              "      <td>0.147200</td>\n",
              "      <td>0.114500</td>\n",
              "      <td>0.064930</td>\n",
              "      <td>0.250400</td>\n",
              "      <td>0.071460</td>\n",
              "      <td>0.000000</td>\n",
              "    </tr>\n",
              "    <tr>\n",
              "      <th>50%</th>\n",
              "      <td>13.370000</td>\n",
              "      <td>18.840000</td>\n",
              "      <td>86.240000</td>\n",
              "      <td>551.100000</td>\n",
              "      <td>0.095870</td>\n",
              "      <td>0.092630</td>\n",
              "      <td>0.061540</td>\n",
              "      <td>0.033500</td>\n",
              "      <td>0.179200</td>\n",
              "      <td>0.061540</td>\n",
              "      <td>...</td>\n",
              "      <td>25.410000</td>\n",
              "      <td>97.660000</td>\n",
              "      <td>686.500000</td>\n",
              "      <td>0.131300</td>\n",
              "      <td>0.211900</td>\n",
              "      <td>0.226700</td>\n",
              "      <td>0.099930</td>\n",
              "      <td>0.282200</td>\n",
              "      <td>0.080040</td>\n",
              "      <td>1.000000</td>\n",
              "    </tr>\n",
              "    <tr>\n",
              "      <th>75%</th>\n",
              "      <td>15.780000</td>\n",
              "      <td>21.800000</td>\n",
              "      <td>104.100000</td>\n",
              "      <td>782.700000</td>\n",
              "      <td>0.105300</td>\n",
              "      <td>0.130400</td>\n",
              "      <td>0.130700</td>\n",
              "      <td>0.074000</td>\n",
              "      <td>0.195700</td>\n",
              "      <td>0.066120</td>\n",
              "      <td>...</td>\n",
              "      <td>29.720000</td>\n",
              "      <td>125.400000</td>\n",
              "      <td>1084.000000</td>\n",
              "      <td>0.146000</td>\n",
              "      <td>0.339100</td>\n",
              "      <td>0.382900</td>\n",
              "      <td>0.161400</td>\n",
              "      <td>0.317900</td>\n",
              "      <td>0.092080</td>\n",
              "      <td>1.000000</td>\n",
              "    </tr>\n",
              "    <tr>\n",
              "      <th>max</th>\n",
              "      <td>28.110000</td>\n",
              "      <td>39.280000</td>\n",
              "      <td>188.500000</td>\n",
              "      <td>2501.000000</td>\n",
              "      <td>0.163400</td>\n",
              "      <td>0.345400</td>\n",
              "      <td>0.426800</td>\n",
              "      <td>0.201200</td>\n",
              "      <td>0.304000</td>\n",
              "      <td>0.097440</td>\n",
              "      <td>...</td>\n",
              "      <td>49.540000</td>\n",
              "      <td>251.200000</td>\n",
              "      <td>4254.000000</td>\n",
              "      <td>0.222600</td>\n",
              "      <td>1.058000</td>\n",
              "      <td>1.252000</td>\n",
              "      <td>0.291000</td>\n",
              "      <td>0.663800</td>\n",
              "      <td>0.207500</td>\n",
              "      <td>1.000000</td>\n",
              "    </tr>\n",
              "  </tbody>\n",
              "</table>\n",
              "<p>8 rows × 31 columns</p>\n",
              "</div>"
            ],
            "text/plain": [
              "       mean radius  mean texture  mean perimeter    mean area  \\\n",
              "count   569.000000    569.000000      569.000000   569.000000   \n",
              "mean     14.127292     19.289649       91.969033   654.889104   \n",
              "std       3.524049      4.301036       24.298981   351.914129   \n",
              "min       6.981000      9.710000       43.790000   143.500000   \n",
              "25%      11.700000     16.170000       75.170000   420.300000   \n",
              "50%      13.370000     18.840000       86.240000   551.100000   \n",
              "75%      15.780000     21.800000      104.100000   782.700000   \n",
              "max      28.110000     39.280000      188.500000  2501.000000   \n",
              "\n",
              "       mean smoothness  mean compactness  mean concavity  mean concave points  \\\n",
              "count       569.000000        569.000000      569.000000           569.000000   \n",
              "mean          0.096360          0.104341        0.088799             0.048919   \n",
              "std           0.014064          0.052813        0.079720             0.038803   \n",
              "min           0.052630          0.019380        0.000000             0.000000   \n",
              "25%           0.086370          0.064920        0.029560             0.020310   \n",
              "50%           0.095870          0.092630        0.061540             0.033500   \n",
              "75%           0.105300          0.130400        0.130700             0.074000   \n",
              "max           0.163400          0.345400        0.426800             0.201200   \n",
              "\n",
              "       mean symmetry  mean fractal dimension     ...      worst texture  \\\n",
              "count     569.000000              569.000000     ...         569.000000   \n",
              "mean        0.181162                0.062798     ...          25.677223   \n",
              "std         0.027414                0.007060     ...           6.146258   \n",
              "min         0.106000                0.049960     ...          12.020000   \n",
              "25%         0.161900                0.057700     ...          21.080000   \n",
              "50%         0.179200                0.061540     ...          25.410000   \n",
              "75%         0.195700                0.066120     ...          29.720000   \n",
              "max         0.304000                0.097440     ...          49.540000   \n",
              "\n",
              "       worst perimeter   worst area  worst smoothness  worst compactness  \\\n",
              "count       569.000000   569.000000        569.000000         569.000000   \n",
              "mean        107.261213   880.583128          0.132369           0.254265   \n",
              "std          33.602542   569.356993          0.022832           0.157336   \n",
              "min          50.410000   185.200000          0.071170           0.027290   \n",
              "25%          84.110000   515.300000          0.116600           0.147200   \n",
              "50%          97.660000   686.500000          0.131300           0.211900   \n",
              "75%         125.400000  1084.000000          0.146000           0.339100   \n",
              "max         251.200000  4254.000000          0.222600           1.058000   \n",
              "\n",
              "       worst concavity  worst concave points  worst symmetry  \\\n",
              "count       569.000000            569.000000      569.000000   \n",
              "mean          0.272188              0.114606        0.290076   \n",
              "std           0.208624              0.065732        0.061867   \n",
              "min           0.000000              0.000000        0.156500   \n",
              "25%           0.114500              0.064930        0.250400   \n",
              "50%           0.226700              0.099930        0.282200   \n",
              "75%           0.382900              0.161400        0.317900   \n",
              "max           1.252000              0.291000        0.663800   \n",
              "\n",
              "       worst fractal dimension       class  \n",
              "count               569.000000  569.000000  \n",
              "mean                  0.083946    0.627417  \n",
              "std                   0.018061    0.483918  \n",
              "min                   0.055040    0.000000  \n",
              "25%                   0.071460    0.000000  \n",
              "50%                   0.080040    1.000000  \n",
              "75%                   0.092080    1.000000  \n",
              "max                   0.207500    1.000000  \n",
              "\n",
              "[8 rows x 31 columns]"
            ]
          },
          "metadata": {
            "tags": []
          },
          "execution_count": 8
        }
      ]
    },
    {
      "metadata": {
        "id": "S0fj_9w79c56",
        "colab_type": "code",
        "colab": {
          "base_uri": "https://localhost:8080/",
          "height": 68
        },
        "outputId": "6c2fdfa7-cd2d-49fd-c461-34ef8fd0fa51"
      },
      "cell_type": "code",
      "source": [
        "print(data['class'].value_counts())"
      ],
      "execution_count": 10,
      "outputs": [
        {
          "output_type": "stream",
          "text": [
            "1    357\n",
            "0    212\n",
            "Name: class, dtype: int64\n"
          ],
          "name": "stdout"
        }
      ]
    },
    {
      "metadata": {
        "id": "7d7dyyta9pBD",
        "colab_type": "code",
        "colab": {
          "base_uri": "https://localhost:8080/",
          "height": 34
        },
        "outputId": "380fc762-36c0-4257-acd2-11070e35327f"
      },
      "cell_type": "code",
      "source": [
        "print(breast_cancer.target_names)"
      ],
      "execution_count": 13,
      "outputs": [
        {
          "output_type": "stream",
          "text": [
            "['malignant' 'benign']\n"
          ],
          "name": "stdout"
        }
      ]
    },
    {
      "metadata": {
        "id": "35KWS_3T9yrz",
        "colab_type": "code",
        "colab": {
          "base_uri": "https://localhost:8080/",
          "height": 225
        },
        "outputId": "eda1c446-df31-4cc7-dff9-c49ad2429606"
      },
      "cell_type": "code",
      "source": [
        "data.groupby('class').mean()"
      ],
      "execution_count": 14,
      "outputs": [
        {
          "output_type": "execute_result",
          "data": {
            "text/html": [
              "<div>\n",
              "<style scoped>\n",
              "    .dataframe tbody tr th:only-of-type {\n",
              "        vertical-align: middle;\n",
              "    }\n",
              "\n",
              "    .dataframe tbody tr th {\n",
              "        vertical-align: top;\n",
              "    }\n",
              "\n",
              "    .dataframe thead th {\n",
              "        text-align: right;\n",
              "    }\n",
              "</style>\n",
              "<table border=\"1\" class=\"dataframe\">\n",
              "  <thead>\n",
              "    <tr style=\"text-align: right;\">\n",
              "      <th></th>\n",
              "      <th>mean radius</th>\n",
              "      <th>mean texture</th>\n",
              "      <th>mean perimeter</th>\n",
              "      <th>mean area</th>\n",
              "      <th>mean smoothness</th>\n",
              "      <th>mean compactness</th>\n",
              "      <th>mean concavity</th>\n",
              "      <th>mean concave points</th>\n",
              "      <th>mean symmetry</th>\n",
              "      <th>mean fractal dimension</th>\n",
              "      <th>...</th>\n",
              "      <th>worst radius</th>\n",
              "      <th>worst texture</th>\n",
              "      <th>worst perimeter</th>\n",
              "      <th>worst area</th>\n",
              "      <th>worst smoothness</th>\n",
              "      <th>worst compactness</th>\n",
              "      <th>worst concavity</th>\n",
              "      <th>worst concave points</th>\n",
              "      <th>worst symmetry</th>\n",
              "      <th>worst fractal dimension</th>\n",
              "    </tr>\n",
              "    <tr>\n",
              "      <th>class</th>\n",
              "      <th></th>\n",
              "      <th></th>\n",
              "      <th></th>\n",
              "      <th></th>\n",
              "      <th></th>\n",
              "      <th></th>\n",
              "      <th></th>\n",
              "      <th></th>\n",
              "      <th></th>\n",
              "      <th></th>\n",
              "      <th></th>\n",
              "      <th></th>\n",
              "      <th></th>\n",
              "      <th></th>\n",
              "      <th></th>\n",
              "      <th></th>\n",
              "      <th></th>\n",
              "      <th></th>\n",
              "      <th></th>\n",
              "      <th></th>\n",
              "      <th></th>\n",
              "    </tr>\n",
              "  </thead>\n",
              "  <tbody>\n",
              "    <tr>\n",
              "      <th>0</th>\n",
              "      <td>17.462830</td>\n",
              "      <td>21.604906</td>\n",
              "      <td>115.365377</td>\n",
              "      <td>978.376415</td>\n",
              "      <td>0.102898</td>\n",
              "      <td>0.145188</td>\n",
              "      <td>0.160775</td>\n",
              "      <td>0.087990</td>\n",
              "      <td>0.192909</td>\n",
              "      <td>0.062680</td>\n",
              "      <td>...</td>\n",
              "      <td>21.134811</td>\n",
              "      <td>29.318208</td>\n",
              "      <td>141.370330</td>\n",
              "      <td>1422.286321</td>\n",
              "      <td>0.144845</td>\n",
              "      <td>0.374824</td>\n",
              "      <td>0.450606</td>\n",
              "      <td>0.182237</td>\n",
              "      <td>0.323468</td>\n",
              "      <td>0.091530</td>\n",
              "    </tr>\n",
              "    <tr>\n",
              "      <th>1</th>\n",
              "      <td>12.146524</td>\n",
              "      <td>17.914762</td>\n",
              "      <td>78.075406</td>\n",
              "      <td>462.790196</td>\n",
              "      <td>0.092478</td>\n",
              "      <td>0.080085</td>\n",
              "      <td>0.046058</td>\n",
              "      <td>0.025717</td>\n",
              "      <td>0.174186</td>\n",
              "      <td>0.062867</td>\n",
              "      <td>...</td>\n",
              "      <td>13.379801</td>\n",
              "      <td>23.515070</td>\n",
              "      <td>87.005938</td>\n",
              "      <td>558.899440</td>\n",
              "      <td>0.124959</td>\n",
              "      <td>0.182673</td>\n",
              "      <td>0.166238</td>\n",
              "      <td>0.074444</td>\n",
              "      <td>0.270246</td>\n",
              "      <td>0.079442</td>\n",
              "    </tr>\n",
              "  </tbody>\n",
              "</table>\n",
              "<p>2 rows × 30 columns</p>\n",
              "</div>"
            ],
            "text/plain": [
              "       mean radius  mean texture  mean perimeter   mean area  mean smoothness  \\\n",
              "class                                                                           \n",
              "0        17.462830     21.604906      115.365377  978.376415         0.102898   \n",
              "1        12.146524     17.914762       78.075406  462.790196         0.092478   \n",
              "\n",
              "       mean compactness  mean concavity  mean concave points  mean symmetry  \\\n",
              "class                                                                         \n",
              "0              0.145188        0.160775             0.087990       0.192909   \n",
              "1              0.080085        0.046058             0.025717       0.174186   \n",
              "\n",
              "       mean fractal dimension           ...             worst radius  \\\n",
              "class                                   ...                            \n",
              "0                    0.062680           ...                21.134811   \n",
              "1                    0.062867           ...                13.379801   \n",
              "\n",
              "       worst texture  worst perimeter   worst area  worst smoothness  \\\n",
              "class                                                                  \n",
              "0          29.318208       141.370330  1422.286321          0.144845   \n",
              "1          23.515070        87.005938   558.899440          0.124959   \n",
              "\n",
              "       worst compactness  worst concavity  worst concave points  \\\n",
              "class                                                             \n",
              "0               0.374824         0.450606              0.182237   \n",
              "1               0.182673         0.166238              0.074444   \n",
              "\n",
              "       worst symmetry  worst fractal dimension  \n",
              "class                                           \n",
              "0            0.323468                 0.091530  \n",
              "1            0.270246                 0.079442  \n",
              "\n",
              "[2 rows x 30 columns]"
            ]
          },
          "metadata": {
            "tags": []
          },
          "execution_count": 14
        }
      ]
    },
    {
      "metadata": {
        "id": "IxbGQWij-CGD",
        "colab_type": "code",
        "colab": {}
      },
      "cell_type": "code",
      "source": [
        ""
      ],
      "execution_count": 0,
      "outputs": []
    },
    {
      "metadata": {
        "id": "2n3cPxAr-cKW",
        "colab_type": "text"
      },
      "cell_type": "markdown",
      "source": [
        "# Train test split"
      ]
    },
    {
      "metadata": {
        "id": "KiG68qR0-gJK",
        "colab_type": "code",
        "colab": {}
      },
      "cell_type": "code",
      "source": [
        "from sklearn.model_selection import train_test_split"
      ],
      "execution_count": 0,
      "outputs": []
    },
    {
      "metadata": {
        "id": "QeIpqWM3-7qK",
        "colab_type": "code",
        "colab": {}
      },
      "cell_type": "code",
      "source": [
        "X = data.drop('class',axis=1)\n",
        "Y=data['class']"
      ],
      "execution_count": 0,
      "outputs": []
    },
    {
      "metadata": {
        "id": "YTRsdaY4_STz",
        "colab_type": "code",
        "colab": {}
      },
      "cell_type": "code",
      "source": [
        "X_train,X_test,Y_train,Y_test=train_test_split(X,Y)"
      ],
      "execution_count": 0,
      "outputs": []
    },
    {
      "metadata": {
        "id": "Avx_FZ9X_oW6",
        "colab_type": "code",
        "colab": {
          "base_uri": "https://localhost:8080/",
          "height": 34
        },
        "outputId": "bc9d0751-0ea9-41b5-b633-01eaf382a5fc"
      },
      "cell_type": "code",
      "source": [
        "print(X.shape,X_train.shape,X_test.shape)"
      ],
      "execution_count": 18,
      "outputs": [
        {
          "output_type": "stream",
          "text": [
            "(569, 30) (426, 30) (143, 30)\n"
          ],
          "name": "stdout"
        }
      ]
    },
    {
      "metadata": {
        "id": "l56ARb3u_tGK",
        "colab_type": "code",
        "colab": {}
      },
      "cell_type": "code",
      "source": [
        "X_train,X_test,Y_train,Y_test=train_test_split(X,Y,test_size=0.1)"
      ],
      "execution_count": 0,
      "outputs": []
    },
    {
      "metadata": {
        "id": "OQBDJmkx_-zq",
        "colab_type": "code",
        "colab": {
          "base_uri": "https://localhost:8080/",
          "height": 34
        },
        "outputId": "8edfe1f1-5209-4f6c-81c7-bfe4711cfe82"
      },
      "cell_type": "code",
      "source": [
        "print(X.shape,X_train.shape,X_test.shape)"
      ],
      "execution_count": 20,
      "outputs": [
        {
          "output_type": "stream",
          "text": [
            "(569, 30) (512, 30) (57, 30)\n"
          ],
          "name": "stdout"
        }
      ]
    },
    {
      "metadata": {
        "id": "9PaemeAiAACi",
        "colab_type": "code",
        "colab": {
          "base_uri": "https://localhost:8080/",
          "height": 34
        },
        "outputId": "6aafd837-a926-46a5-90ba-517401abdf31"
      },
      "cell_type": "code",
      "source": [
        "print(Y.mean(),Y_train.mean(),Y_test.mean())"
      ],
      "execution_count": 22,
      "outputs": [
        {
          "output_type": "stream",
          "text": [
            "0.6274165202108963 0.62890625 0.6140350877192983\n"
          ],
          "name": "stdout"
        }
      ]
    },
    {
      "metadata": {
        "id": "zX4YXZsvAR66",
        "colab_type": "code",
        "colab": {}
      },
      "cell_type": "code",
      "source": [
        "X_train,X_test,Y_train,Y_test=train_test_split(X,Y,test_size=0.1,stratify=Y)"
      ],
      "execution_count": 0,
      "outputs": []
    },
    {
      "metadata": {
        "id": "VM2Wqdd1Afeq",
        "colab_type": "code",
        "colab": {
          "base_uri": "https://localhost:8080/",
          "height": 34
        },
        "outputId": "85dd5b33-0ad4-4beb-87cc-dce2f678164e"
      },
      "cell_type": "code",
      "source": [
        "print(Y.mean(),Y_train.mean(),Y_test.mean())"
      ],
      "execution_count": 27,
      "outputs": [
        {
          "output_type": "stream",
          "text": [
            "0.6274165202108963 0.626953125 0.631578947368421\n"
          ],
          "name": "stdout"
        }
      ]
    },
    {
      "metadata": {
        "id": "5wbHJewOAgwq",
        "colab_type": "code",
        "colab": {}
      },
      "cell_type": "code",
      "source": [
        "print(X_train.mean(),X_test.mean(),X.mean())"
      ],
      "execution_count": 0,
      "outputs": []
    },
    {
      "metadata": {
        "id": "3kksXLZvAtdi",
        "colab_type": "code",
        "colab": {}
      },
      "cell_type": "code",
      "source": [
        "X_train,X_test,Y_train,Y_test=train_test_split(X,Y,test_size=0.1,stratify=Y,random_state=1)"
      ],
      "execution_count": 0,
      "outputs": []
    },
    {
      "metadata": {
        "id": "AUPnZFm3Ba96",
        "colab_type": "code",
        "colab": {
          "base_uri": "https://localhost:8080/",
          "height": 1564
        },
        "outputId": "8bbc1e1a-df91-476e-be9a-47a190149f0f"
      },
      "cell_type": "code",
      "source": [
        "print(X_train.mean(),X_test.mean(),X.mean())"
      ],
      "execution_count": 30,
      "outputs": [
        {
          "output_type": "stream",
          "text": [
            "mean radius                 14.058656\n",
            "mean texture                19.309668\n",
            "mean perimeter              91.530488\n",
            "mean area                  648.097266\n",
            "mean smoothness              0.096568\n",
            "mean compactness             0.105144\n",
            "mean concavity               0.089342\n",
            "mean concave points          0.048892\n",
            "mean symmetry                0.181961\n",
            "mean fractal dimension       0.062979\n",
            "radius error                 0.403659\n",
            "texture error                1.206856\n",
            "perimeter error              2.861173\n",
            "area error                  39.935506\n",
            "smoothness error             0.007067\n",
            "compactness error            0.025681\n",
            "concavity error              0.032328\n",
            "concave points error         0.011963\n",
            "symmetry error               0.020584\n",
            "fractal dimension error      0.003815\n",
            "worst radius                16.194275\n",
            "worst texture               25.644902\n",
            "worst perimeter            106.757715\n",
            "worst area                 871.647852\n",
            "worst smoothness             0.132592\n",
            "worst compactness            0.257415\n",
            "worst concavity              0.275623\n",
            "worst concave points         0.115454\n",
            "worst symmetry               0.291562\n",
            "worst fractal dimension      0.084402\n",
            "dtype: float64 mean radius                 14.743807\n",
            "mean texture                19.109825\n",
            "mean perimeter              95.908246\n",
            "mean area                  715.896491\n",
            "mean smoothness              0.094496\n",
            "mean compactness             0.097130\n",
            "mean concavity               0.083923\n",
            "mean concave points          0.049159\n",
            "mean symmetry                0.173981\n",
            "mean fractal dimension       0.061169\n",
            "radius error                 0.418767\n",
            "texture error                1.306656\n",
            "perimeter error              2.909946\n",
            "area error                  43.944193\n",
            "smoothness error             0.006809\n",
            "compactness error            0.023659\n",
            "concavity error              0.027989\n",
            "concave points error         0.010293\n",
            "symmetry error               0.020169\n",
            "fractal dimension error      0.003618\n",
            "worst radius                16.942105\n",
            "worst texture               25.967544\n",
            "worst perimeter            111.783860\n",
            "worst area                 960.843860\n",
            "worst smoothness             0.130357\n",
            "worst compactness            0.225973\n",
            "worst concavity              0.241340\n",
            "worst concave points         0.106994\n",
            "worst symmetry               0.276719\n",
            "worst fractal dimension      0.079852\n",
            "dtype: float64 mean radius                 14.127292\n",
            "mean texture                19.289649\n",
            "mean perimeter              91.969033\n",
            "mean area                  654.889104\n",
            "mean smoothness              0.096360\n",
            "mean compactness             0.104341\n",
            "mean concavity               0.088799\n",
            "mean concave points          0.048919\n",
            "mean symmetry                0.181162\n",
            "mean fractal dimension       0.062798\n",
            "radius error                 0.405172\n",
            "texture error                1.216853\n",
            "perimeter error              2.866059\n",
            "area error                  40.337079\n",
            "smoothness error             0.007041\n",
            "compactness error            0.025478\n",
            "concavity error              0.031894\n",
            "concave points error         0.011796\n",
            "symmetry error               0.020542\n",
            "fractal dimension error      0.003795\n",
            "worst radius                16.269190\n",
            "worst texture               25.677223\n",
            "worst perimeter            107.261213\n",
            "worst area                 880.583128\n",
            "worst smoothness             0.132369\n",
            "worst compactness            0.254265\n",
            "worst concavity              0.272188\n",
            "worst concave points         0.114606\n",
            "worst symmetry               0.290076\n",
            "worst fractal dimension      0.083946\n",
            "dtype: float64\n"
          ],
          "name": "stdout"
        }
      ]
    },
    {
      "metadata": {
        "id": "roEy21VeBcCx",
        "colab_type": "code",
        "colab": {}
      },
      "cell_type": "code",
      "source": [
        ""
      ],
      "execution_count": 0,
      "outputs": []
    },
    {
      "metadata": {
        "id": "QUkiZW5rBoBj",
        "colab_type": "text"
      },
      "cell_type": "markdown",
      "source": [
        "# Binarisation of input"
      ]
    },
    {
      "metadata": {
        "id": "3Un96K0VBrCi",
        "colab_type": "code",
        "colab": {}
      },
      "cell_type": "code",
      "source": [
        "import matplotlib.pyplot as plt"
      ],
      "execution_count": 0,
      "outputs": []
    },
    {
      "metadata": {
        "id": "cUwWv0Z9CKHB",
        "colab_type": "code",
        "colab": {
          "base_uri": "https://localhost:8080/",
          "height": 440
        },
        "outputId": "4e960410-0b30-43cd-b6fc-cc0ac93b56e9"
      },
      "cell_type": "code",
      "source": [
        "plt.plot(X_train.T,'*')\n",
        "plt.xticks(rotation='vertical')\n",
        "plt.show()"
      ],
      "execution_count": 34,
      "outputs": [
        {
          "output_type": "display_data",
          "data": {
            "image/png": "[encoded data removed]",
            "text/plain": [
              "<Figure size 576x396 with 1 Axes>"
            ]
          },
          "metadata": {
            "tags": []
          }
        }
      ]
    },
    {
      "metadata": {
        "id": "Hi5R9dBVCVoJ",
        "colab_type": "code",
        "colab": {}
      },
      "cell_type": "code",
      "source": [
        "X_binarised_3_train=X_train['mean area'].map(lambda x: 0 if x<1000 else 1)"
      ],
      "execution_count": 0,
      "outputs": []
    },
    {
      "metadata": {
        "id": "rPXbf5i-EC7a",
        "colab_type": "code",
        "colab": {
          "base_uri": "https://localhost:8080/",
          "height": 364
        },
        "outputId": "96774af8-6aaa-41a0-c5d7-dc8d0e25e384"
      },
      "cell_type": "code",
      "source": [
        "plt.plot(X_binarised_3_train,'*')"
      ],
      "execution_count": 37,
      "outputs": [
        {
          "output_type": "execute_result",
          "data": {
            "text/plain": [
              "[<matplotlib.lines.Line2D at 0x7fb0cc55ccf8>]"
            ]
          },
          "metadata": {
            "tags": []
          },
          "execution_count": 37
        },
        {
          "output_type": "display_data",
          "data": {
            "image/png": "[encoded data removed]",
            "text/plain": [
              "<Figure size 576x396 with 1 Axes>"
            ]
          },
          "metadata": {
            "tags": []
          }
        }
      ]
    },
    {
      "metadata": {
        "id": "eam47D15mSQv",
        "colab_type": "code",
        "colab": {
          "base_uri": "https://localhost:8080/",
          "height": 440
        },
        "outputId": "a1fe4d88-7a96-4ea4-fb38-fba38dc77646"
      },
      "cell_type": "code",
      "source": [
        "plt.plot(X_test.T,'*')\n",
        "plt.xticks(rotation='vertical')\n",
        "plt.show()"
      ],
      "execution_count": 39,
      "outputs": [
        {
          "output_type": "display_data",
          "data": {
            "image/png": "[encoded data removed]",
            "text/plain": [
              "<Figure size 576x396 with 1 Axes>"
            ]
          },
          "metadata": {
            "tags": []
          }
        }
      ]
    },
    {
      "metadata": {
        "id": "GK1eoPdwme_X",
        "colab_type": "code",
        "colab": {}
      },
      "cell_type": "code",
      "source": [
        "X_binarised_train=X_train.apply(pd.cut,bins=2,labels=[1,0])"
      ],
      "execution_count": 0,
      "outputs": []
    },
    {
      "metadata": {
        "id": "jtZZ0rz5m-zQ",
        "colab_type": "code",
        "colab": {
          "base_uri": "https://localhost:8080/",
          "height": 440
        },
        "outputId": "23e8ff31-4ddd-480e-fe0a-6c2ca7234857"
      },
      "cell_type": "code",
      "source": [
        "plt.plot(X_binarised_train.T,'*')\n",
        "plt.xticks(rotation='vertical')\n",
        "plt.show()"
      ],
      "execution_count": 96,
      "outputs": [
        {
          "output_type": "display_data",
          "data": {
            "image/png": "[encoded data removed]",
            "text/plain": [
              "<Figure size 576x396 with 1 Axes>"
            ]
          },
          "metadata": {
            "tags": []
          }
        }
      ]
    },
    {
      "metadata": {
        "id": "ewP04WTknBPY",
        "colab_type": "code",
        "colab": {}
      },
      "cell_type": "code",
      "source": [
        "X_binarised_test=X_test.apply(pd.cut,bins=2,labels=[0,1])"
      ],
      "execution_count": 0,
      "outputs": []
    },
    {
      "metadata": {
        "id": "v0GBwa6JnbVv",
        "colab_type": "code",
        "colab": {
          "base_uri": "https://localhost:8080/",
          "height": 440
        },
        "outputId": "1971c8ff-5d1b-4c88-cc84-fc6b6fd98937"
      },
      "cell_type": "code",
      "source": [
        "plt.plot(X_binarised_test.T,'*')\n",
        "plt.xticks(rotation='vertical')\n",
        "plt.show()"
      ],
      "execution_count": 98,
      "outputs": [
        {
          "output_type": "display_data",
          "data": {
            "image/png": "[encoded data removed]",
            "text/plain": [
              "<Figure size 576x396 with 1 Axes>"
            ]
          },
          "metadata": {
            "tags": []
          }
        }
      ]
    },
    {
      "metadata": {
        "id": "poD5kvLznemC",
        "colab_type": "code",
        "colab": {}
      },
      "cell_type": "code",
      "source": [
        "X_binarised_train=X_binarised_train.values\n",
        "X_binarised_test = X_binarised_test.values"
      ],
      "execution_count": 0,
      "outputs": []
    },
    {
      "metadata": {
        "id": "i7-5Vlj7ntnf",
        "colab_type": "code",
        "colab": {
          "base_uri": "https://localhost:8080/",
          "height": 34
        },
        "outputId": "bc0af1a5-39f1-4626-999e-6f4f6a68e12c"
      },
      "cell_type": "code",
      "source": [
        "type(X_binarised_test)"
      ],
      "execution_count": 100,
      "outputs": [
        {
          "output_type": "execute_result",
          "data": {
            "text/plain": [
              "numpy.ndarray"
            ]
          },
          "metadata": {
            "tags": []
          },
          "execution_count": 100
        }
      ]
    },
    {
      "metadata": {
        "id": "vCyt7rRKnu2_",
        "colab_type": "code",
        "colab": {}
      },
      "cell_type": "code",
      "source": [
        ""
      ],
      "execution_count": 0,
      "outputs": []
    },
    {
      "metadata": {
        "id": "11oa--KoogQY",
        "colab_type": "text"
      },
      "cell_type": "markdown",
      "source": [
        "# inference"
      ]
    },
    {
      "metadata": {
        "id": "r0iRyjPloiNH",
        "colab_type": "code",
        "colab": {}
      },
      "cell_type": "code",
      "source": [
        "from random import randint\n"
      ],
      "execution_count": 0,
      "outputs": []
    },
    {
      "metadata": {
        "id": "cATsSi0zokVA",
        "colab_type": "code",
        "colab": {
          "base_uri": "https://localhost:8080/",
          "height": 68
        },
        "outputId": "a39444cc-1e12-466d-c035-422845ca7311"
      },
      "cell_type": "code",
      "source": [
        "b=3\n",
        "i = randint(0,X_binarised_train.shape[0])\n",
        "print(\"for row\",i)\n",
        "\n",
        "if(np.sum(X_binarised_train[i,:])>=b):\n",
        "  print(\"it is malignant from machine\")\n",
        "else:\n",
        "    print(\"it is benign from machine\")\n",
        "    \n",
        "    \n",
        "if(Y_train[i]==1):\n",
        "  print(\"it is malignant really\")\n",
        "else:\n",
        "    print(\"it is benign really\")"
      ],
      "execution_count": 107,
      "outputs": [
        {
          "output_type": "stream",
          "text": [
            "for row 233\n",
            "it is malignant from machine\n",
            "it is benign really\n"
          ],
          "name": "stdout"
        }
      ]
    },
    {
      "metadata": {
        "id": "BKf0kMqPpZlf",
        "colab_type": "code",
        "colab": {
          "base_uri": "https://localhost:8080/",
          "height": 34
        },
        "outputId": "aebf66e2-5f46-4418-caae-49e3dbcd9201"
      },
      "cell_type": "code",
      "source": [
        "b = 3\n",
        "y_pred_train = []\n",
        "accurate_rows =0\n",
        "for x,y in zip(X_binarised_train,Y_train):\n",
        "  y_pred = (np.sum(x)>=b)\n",
        "  y_pred_train.append(y_pred)\n",
        "  accurate_rows += (y==y_pred)\n",
        "\n",
        "print(accurate_rows,accurate_rows/X_binarised_train.shape[0])"
      ],
      "execution_count": 108,
      "outputs": [
        {
          "output_type": "stream",
          "text": [
            "321 0.626953125\n"
          ],
          "name": "stdout"
        }
      ]
    },
    {
      "metadata": {
        "id": "bL84sJs-r4fG",
        "colab_type": "code",
        "colab": {
          "base_uri": "https://localhost:8080/",
          "height": 544
        },
        "outputId": "82c4954a-403d-40b8-8744-2be97a831358"
      },
      "cell_type": "code",
      "source": [
        "for b in range(X_binarised_train.shape[1]+1):\n",
        "  y_pred_train = []\n",
        "  accurate_rows =0\n",
        "  for x,y in zip(X_binarised_train,Y_train):\n",
        "    y_pred = (np.sum(x)>=b)\n",
        "    y_pred_train.append(y_pred)\n",
        "    accurate_rows += (y==y_pred)\n",
        "\n",
        "  print(b,accurate_rows/X_binarised_train.shape[0])\n"
      ],
      "execution_count": 118,
      "outputs": [
        {
          "output_type": "stream",
          "text": [
            "0 0.626953125\n",
            "1 0.626953125\n",
            "2 0.626953125\n",
            "3 0.626953125\n",
            "4 0.626953125\n",
            "5 0.626953125\n",
            "6 0.626953125\n",
            "7 0.626953125\n",
            "8 0.626953125\n",
            "9 0.626953125\n",
            "10 0.626953125\n",
            "11 0.626953125\n",
            "12 0.626953125\n",
            "13 0.626953125\n",
            "14 0.630859375\n",
            "15 0.6328125\n",
            "16 0.642578125\n",
            "17 0.6484375\n",
            "18 0.65625\n",
            "19 0.6640625\n",
            "20 0.671875\n",
            "21 0.6875\n",
            "22 0.701171875\n",
            "23 0.724609375\n",
            "24 0.755859375\n",
            "25 0.78515625\n",
            "26 0.818359375\n",
            "27 0.845703125\n",
            "28 0.849609375\n",
            "29 0.814453125\n",
            "30 0.759765625\n"
          ],
          "name": "stdout"
        }
      ]
    },
    {
      "metadata": {
        "id": "mr40HyhQsvPW",
        "colab_type": "code",
        "colab": {}
      },
      "cell_type": "code",
      "source": [
        "from sklearn.metrics import accuracy_score"
      ],
      "execution_count": 0,
      "outputs": []
    },
    {
      "metadata": {
        "id": "8v6fpXnFuG8d",
        "colab_type": "code",
        "colab": {
          "base_uri": "https://localhost:8080/",
          "height": 34
        },
        "outputId": "c65aa879-890f-4765-e8c3-e00cca32807b"
      },
      "cell_type": "code",
      "source": [
        "b = 28\n",
        "y_pred_test = []\n",
        "\n",
        "for x in X_test:\n",
        "  y_pred = (np.sum(x)>=b)\n",
        "  y_pred_test.append(y_pred)\n",
        "\n",
        "accuracy = accuracy_score(y_pred_test,Y_test)\n",
        "\n",
        "print(b,accuracy)"
      ],
      "execution_count": 184,
      "outputs": [
        {
          "output_type": "stream",
          "text": [
            "28 0.631578947368421\n"
          ],
          "name": "stdout"
        }
      ]
    },
    {
      "metadata": {
        "id": "Qn1wfEGjugrt",
        "colab_type": "code",
        "colab": {}
      },
      "cell_type": "code",
      "source": [
        ""
      ],
      "execution_count": 0,
      "outputs": []
    },
    {
      "metadata": {
        "id": "UpnG1B0VwkVB",
        "colab_type": "text"
      },
      "cell_type": "markdown",
      "source": [
        "#MP neuron class"
      ]
    },
    {
      "metadata": {
        "id": "p5oGMbKCwmDl",
        "colab_type": "code",
        "colab": {}
      },
      "cell_type": "code",
      "source": [
        "class MPNeuron:\n",
        "  \n",
        "  def __init__(self):\n",
        "    self.b = None\n",
        "    \n",
        "  def model(self,x):\n",
        "    return(sum(x)>=self.b)\n",
        "  \n",
        "  def predict(self,X):\n",
        "    Y = []\n",
        "    for x in X:\n",
        "      result = self.model(x)\n",
        "    \n",
        "      Y.append(result)\n",
        "    return np.array(Y)\n",
        "  \n",
        "  \n",
        "  def fit(self,X,Y):\n",
        "    accuracy= {}\n",
        "    \n",
        "    for b in range(X.shape[1]+1):\n",
        "      self.b = b\n",
        "      Y_pred = self.predict(X)\n",
        "      accuracy[b]= accuracy_score(Y_pred,Y)\n",
        "      \n",
        "    best_b = max(accuracy,key =accuracy.get)\n",
        "    self.b =best_b\n",
        "    \n",
        "    print(\"optimal value of b is\",best_b)\n",
        "    print(\"max accuracy is\",accuracy[best_b])\n",
        "    \n",
        "  \n",
        "  "
      ],
      "execution_count": 0,
      "outputs": []
    },
    {
      "metadata": {
        "id": "2HIMwlKWz29U",
        "colab_type": "code",
        "colab": {
          "base_uri": "https://localhost:8080/",
          "height": 51
        },
        "outputId": "2daa3bb1-afea-4df0-be38-8e15979fa1c8"
      },
      "cell_type": "code",
      "source": [
        "mp_neuron = MPNeuron()\n",
        "mp_neuron.fit(X_binarised_train,Y_train)"
      ],
      "execution_count": 187,
      "outputs": [
        {
          "output_type": "stream",
          "text": [
            "optimal value of b is 28\n",
            "max accuracy is 0.849609375\n"
          ],
          "name": "stdout"
        }
      ]
    },
    {
      "metadata": {
        "id": "5acrgNshz8hc",
        "colab_type": "code",
        "colab": {}
      },
      "cell_type": "code",
      "source": [
        "Y_test_pred = mp_neuron.predict(X_binarised_test)\n",
        "accuracy_test = accuracy_score(Y_test_pred,Y_test)"
      ],
      "execution_count": 0,
      "outputs": []
    },
    {
      "metadata": {
        "id": "CO8u_orT09yk",
        "colab_type": "code",
        "colab": {
          "base_uri": "https://localhost:8080/",
          "height": 34
        },
        "outputId": "16190cf9-98aa-4eb5-a73a-30bb350a6303"
      },
      "cell_type": "code",
      "source": [
        "print(accuracy_test)"
      ],
      "execution_count": 189,
      "outputs": [
        {
          "output_type": "stream",
          "text": [
            "0.3684210526315789\n"
          ],
          "name": "stdout"
        }
      ]
    },
    {
      "metadata": {
        "id": "-9BBcXK41FRU",
        "colab_type": "code",
        "colab": {}
      },
      "cell_type": "code",
      "source": [
        ""
      ],
      "execution_count": 0,
      "outputs": []
    },
    {
      "metadata": {
        "id": "6r77NoTV1NJL",
        "colab_type": "text"
      },
      "cell_type": "markdown",
      "source": [
        "# perceptron class"
      ]
    },
    {
      "metadata": {
        "id": "gr3QIwKb1O48",
        "colab_type": "code",
        "colab": {}
      },
      "cell_type": "code",
      "source": [
        "class Perceptron:\n",
        "  \n",
        "  def __init__(self):\n",
        "    self.w=None\n",
        "    self.b=None\n",
        "    \n",
        "  def model(self,x):\n",
        "    return 1 if (np.dot(self.w,x)>=b) else 0\n",
        "  \n",
        "  def predict(self,X):\n",
        "    Y = []\n",
        "    \n",
        "    for x in X:\n",
        "      result = self.model(x)\n",
        "      Y.append(result)\n",
        "    return np.array(Y)\n",
        "  \n",
        "  def fit(self,X,Y,epochs=1,lr=1):\n",
        "    self.w =np.ones(X.shape[1])\n",
        "    self.b=0\n",
        "    \n",
        "    accuracy ={}\n",
        "    max_accuracy =0\n",
        "    \n",
        "    wt_matrix=[]\n",
        "    for i in range(epochs):\n",
        "      for x,y in zip(X,Y):\n",
        "        y_pred = self.model(x)\n",
        "        if y ==1 and y_pred ==0:\n",
        "          self.w = self.w+lr*x\n",
        "          self.b = self.b+lr*1\n",
        "\n",
        "        elif y ==0 and y_pred == 1:\n",
        "          self.w = self.w - lr*x\n",
        "          self.b = self.b - lr*1\n",
        "          \n",
        "      wt_matrix.append(self.w)\n",
        "      accuracy[i] = accuracy_score(self.predict(X),Y)\n",
        "      if accuracy[i]>max_accuracy:\n",
        "        max_accuracy =accuracy[i]\n",
        "        chkptw = self.w\n",
        "        chkptb = self.b\n",
        "    \n",
        "    self.w =chkptw\n",
        "    self.b = chkptb\n",
        "    print(max_accuracy)\n",
        "      \n",
        "    \n",
        "    plt.plot(accuracy.values())\n",
        "    plt.ylim(0,1)\n",
        "    plt.show()\n",
        "    \n",
        "    return np.array(wt_matrix)"
      ],
      "execution_count": 0,
      "outputs": []
    },
    {
      "metadata": {
        "id": "RnkGfhIU5J5j",
        "colab_type": "code",
        "colab": {}
      },
      "cell_type": "code",
      "source": [
        "X_train=X_train.values\n",
        "X_test=X_test.values"
      ],
      "execution_count": 0,
      "outputs": []
    },
    {
      "metadata": {
        "id": "dzy1Kvh05HUr",
        "colab_type": "code",
        "colab": {}
      },
      "cell_type": "code",
      "source": [
        "perceptron =Perceptron()"
      ],
      "execution_count": 0,
      "outputs": []
    },
    {
      "metadata": {
        "id": "mNjS1fgr5TNL",
        "colab_type": "code",
        "colab": {
          "base_uri": "https://localhost:8080/",
          "height": 368
        },
        "outputId": "69a5f255-a69b-462a-f0d0-a5ca77da68fd"
      },
      "cell_type": "code",
      "source": [
        "wt_matrix =perceptron.fit(X_train,Y_train,500)\n"
      ],
      "execution_count": 203,
      "outputs": [
        {
          "output_type": "stream",
          "text": [
            "0.931640625\n"
          ],
          "name": "stdout"
        },
        {
          "output_type": "display_data",
          "data": {
            "image/png": "[encoded data removed]",
            "text/plain": [
              "<Figure size 576x396 with 1 Axes>"
            ]
          },
          "metadata": {
            "tags": []
          }
        }
      ]
    },
    {
      "metadata": {
        "id": "JjAQFU005ZZz",
        "colab_type": "code",
        "colab": {
          "base_uri": "https://localhost:8080/",
          "height": 34
        },
        "outputId": "5af0e2cc-ba1b-4932-8eb2-6d0794fa0497"
      },
      "cell_type": "code",
      "source": [
        "Y_pred_train =perceptron.predict(X_train)\n",
        "print(accuracy_score(Y_pred_train,Y_train))"
      ],
      "execution_count": 204,
      "outputs": [
        {
          "output_type": "stream",
          "text": [
            "0.931640625\n"
          ],
          "name": "stdout"
        }
      ]
    },
    {
      "metadata": {
        "id": "Y_N4UCb45_a6",
        "colab_type": "code",
        "colab": {
          "base_uri": "https://localhost:8080/",
          "height": 34
        },
        "outputId": "e20448e1-adfa-4442-a5cf-6e799bcf7fb0"
      },
      "cell_type": "code",
      "source": [
        "Y_pred_test =perceptron.predict(X_test)\n",
        "print(accuracy_score(Y_pred_test,Y_test))"
      ],
      "execution_count": 205,
      "outputs": [
        {
          "output_type": "stream",
          "text": [
            "0.9122807017543859\n"
          ],
          "name": "stdout"
        }
      ]
    },
    {
      "metadata": {
        "id": "Klso_zFa6OP6",
        "colab_type": "code",
        "colab": {
          "base_uri": "https://localhost:8080/",
          "height": 347
        },
        "outputId": "6808bbf4-0847-4ac0-a101-922ca0b5b828"
      },
      "cell_type": "code",
      "source": [
        "plt.plot(perceptron.w)\n",
        "plt.show()"
      ],
      "execution_count": 206,
      "outputs": [
        {
          "output_type": "display_data",
          "data": {
            "image/png": "[encoded data removed]",
            "text/plain": [
              "<Figure size 576x396 with 1 Axes>"
            ]
          },
          "metadata": {
            "tags": []
          }
        }
      ]
    },
    {
      "metadata": {
        "id": "Lvb5XitqBJX6",
        "colab_type": "code",
        "colab": {
          "base_uri": "https://localhost:8080/",
          "height": 34
        },
        "outputId": "68abc1dd-23ac-4ddb-ba7d-e13eb8f9a645"
      },
      "cell_type": "code",
      "source": [
        "Y_test_pred = perceptron.predict(X_test)\n",
        "print(accuracy_score(Y_pred_test,Y_test))"
      ],
      "execution_count": 207,
      "outputs": [
        {
          "output_type": "stream",
          "text": [
            "0.9122807017543859\n"
          ],
          "name": "stdout"
        }
      ]
    },
    {
      "metadata": {
        "id": "w0t1w8mNBTb5",
        "colab_type": "code",
        "colab": {}
      },
      "cell_type": "code",
      "source": [
        "%matplotlib inline\n",
        "from matplotlib import animation, rc\n",
        "from IPython.display import HTML"
      ],
      "execution_count": 0,
      "outputs": []
    },
    {
      "metadata": {
        "id": "2JiTnExKDEfk",
        "colab_type": "code",
        "colab": {
          "base_uri": "https://localhost:8080/",
          "height": 269
        },
        "outputId": "596839cb-e6f1-44c0-a7ee-9218c905da43"
      },
      "cell_type": "code",
      "source": [
        "# First set up the figure, the axis, and the plot element we want to animate\n",
        "fig, ax = plt.subplots()\n",
        "\n",
        "ax.set_xlim(( 0, wt_matrix.shape[1]))\n",
        "ax.set_ylim((-15000, 30000))\n",
        "\n",
        "line, = ax.plot([], [], lw=2)"
      ],
      "execution_count": 209,
      "outputs": [
        {
          "output_type": "display_data",
          "data": {
            "image/png": "[encoded data removed]",
            "text/plain": [
              "<Figure size 432x288 with 1 Axes>"
            ]
          },
          "metadata": {
            "tags": []
          }
        }
      ]
    },
    {
      "metadata": {
        "id": "oiFbr_0WDL-x",
        "colab_type": "code",
        "colab": {}
      },
      "cell_type": "code",
      "source": [
        "# animation function. This is called sequentially\n",
        "def animate(i):\n",
        "    x = list(range(wt_matrix.shape[1]))\n",
        "    y = wt_matrix[i,:]\n",
        "    line.set_data(x, y)\n",
        "    return (line,)"
      ],
      "execution_count": 0,
      "outputs": []
    },
    {
      "metadata": {
        "id": "vZ8h0BqQDSM2",
        "colab_type": "code",
        "colab": {}
      },
      "cell_type": "code",
      "source": [
        "# call the animator. blit=True means only re-draw the parts that have changed.\n",
        "anim = animation.FuncAnimation(fig, animate,\n",
        "                               frames=100, interval=200, blit=True)"
      ],
      "execution_count": 0,
      "outputs": []
    },
    {
      "metadata": {
        "id": "rKJ1r6JwDXbz",
        "colab_type": "code",
        "colab": {
          "base_uri": "https://localhost:8080/",
          "height": 309
        },
        "outputId": "b7260b68-36cf-458b-8230-425bf89d738d"
      },
      "cell_type": "code",
      "source": [
        "HTML(anim.to_html5_video())"
      ],
      "execution_count": 215,
      "outputs": [
        {
          "output_type": "execute_result",
          "data": {
            "text/html": [
              "<video width=\"432\" height=\"288\" controls autoplay loop>\n",
              "  <source type=\"video/mp4\" src=\"data:video/mp4;base64,AAAAHGZ0eXBNNFYgAAACAGlzb21pc28yYXZjMQAAAAhmcmVlAACIhG1kYXQAAAKtBgX//6ncRem9\n",
              "5tlIt5Ys2CDZI+7veDI2NCAtIGNvcmUgMTUyIHIyODU0IGU5YTU5MDMgLSBILjI2NC9NUEVHLTQg\n",
              "QVZDIGNvZGVjIC0gQ29weWxlZnQgMjAwMy0yMDE3IC0gaHR0cDovL3d3dy52aWRlb2xhbi5vcmcv\n",
              "eDI2NC5odG1sIC0gb3B0aW9uczogY2FiYWM9MSByZWY9MyBkZWJsb2NrPTE6MDowIGFuYWx5c2U9\n",
              "MHgzOjB4MTEzIG1lPWhleCBzdWJtZT03IHBzeT0xIHBzeV9yZD0xLjAwOjAuMDAgbWl4ZWRfcmVm\n",
              "PTEgbWVfcmFuZ2U9MTYgY2hyb21hX21lPTEgdHJlbGxpcz0xIDh4OGRjdD0xIGNxbT0wIGRlYWR6\n",
              "b25lPTIxLDExIGZhc3RfcHNraXA9MSBjaHJvbWFfcXBfb2Zmc2V0PS0yIHRocmVhZHM9MyBsb29r\n",
              "YWhlYWRfdGhyZWFkcz0xIHNsaWNlZF90aHJlYWRzPTAgbnI9MCBkZWNpbWF0ZT0xIGludGVybGFj\n",
              "ZWQ9MCBibHVyYXlfY29tcGF0PTAgY29uc3RyYWluZWRfaW50cmE9MCBiZnJhbWVzPTMgYl9weXJh\n",
              "bWlkPTIgYl9hZGFwdD0xIGJfYmlhcz0wIGRpcmVjdD0xIHdlaWdodGI9MSBvcGVuX2dvcD0wIHdl\n",
              "aWdodHA9MiBrZXlpbnQ9MjUwIGtleWludF9taW49NSBzY2VuZWN1dD00MCBpbnRyYV9yZWZyZXNo\n",
              "PTAgcmNfbG9va2FoZWFkPTQwIHJjPWNyZiBtYnRyZWU9MSBjcmY9MjMuMCBxY29tcD0wLjYwIHFw\n",
              "bWluPTAgcXBtYXg9NjkgcXBzdGVwPTQgaXBfcmF0aW89MS40MCBhcT0xOjEuMDAAgAAAFSZliIQA\n",
              "Ev/+963fgU3AQO1rulc4tMurlDQ9UfaUpni2SAAAAwADlGX9g1g7UCmuAiQXFD5/3avfUeSuU+ND\n",
              "OTRd2o0JHi2QToY54L8EGhUj6n31SjEKBLpHeutVQkhVLNGgqM08qZ7N9Kpr5gAeaVuKPih3DI8D\n",
              "kf9zTMrYmblXBwGr5+/AE1B95vh8AY182tdKQgAAAwL//1dQt2m4wBYqjBUp9McKnvFHf5FAk016\n",
              "YIJQI+Ez/qDcRxO+CY+F0gGJ5sn8nHRLV/DR3hxyhRy4HBQdkU+GQYl/DKgxZn+Frws/P6fSZiKA\n",
              "LkcAfR21xWkXQ/tjrXsbWeOrmnxlKUgqUmdcAA1CPpcZ2N45qfP4SbDb352WXua/olr5dOfTLQvV\n",
              "GLHp7EkiGb0CNQIIsO86z3PQS6wKg3p3Vi3l7j635YUTA8pbGlGe8kSh8/4Ssogit+egbRRi5Ori\n",
              "muQK9Eww9qrQI8ZuxGJuDQj4JHPjRD+/HLw6Tf+7QFl/YYEYFSor2sVcNkxuFYxuEvDkehd6X5Ws\n",
              "S/NnzKrDcSPdCPoaA2A6/3Mhe1gUz+OiWUa1puKVJdlLjRbKecT0AORE30vLxoWQRMmNx/LvHxRO\n",
              "uC9hJUMq8c5wgF1WDowPQ6rSfkANHWYWOy+E7U8LH/Pw8+zFgNIqErlBq7vFYkSi2Gzm2Jmt3OZx\n",
              "64ONgthf1w6VWEt8Yb1t6tTlwhFgf8C/375Tly4lvhtay6exCyNLYHorALE2wxpFT61EJ1etxlUW\n",
              "GO4zSsfgVaZ5kq6WA33PCvWG+XtM2gaAPXKOjViCbyUkUPwSKNXsed0jLqSSMpfe2xsba0wHmmd0\n",
              "YAC48rqHNpdX1/6fCo0SkqZU8H25g6onZR0f4U5aLCBK75WQeqc1Nx7IqkYaqpdECHcpRWXnoECB\n",
              "kH8At8x5aIylKO4qNz/9Mi9WwyELsdVbexPwHGC+nycBT5N6kRB3mRDt43s10n/7fatFiAvwVLI6\n",
              "J19e0X0zZJqBIYnaVpDhlaXNsl7yyh5BCtLhSkcmbJjpF6AhFzx7iYtU1j1KeL92LlkE7BLgWVIw\n",
              "QEr1t3RF0loVYcM2Ko5hZOxxOlG3KlaMo8wt11+Laff0Mf6iJWchxAmd8663uG4hNrqbg79tD1s+\n",
              "LneSG1WXUPO74oEP1tAGZfUx8qniFg22ZicPrXAGhFNnjSxtn0fhWS4i1VESxttjmUw+jaRufzvz\n",
              "V/fOOiwknEG4fGHRiZcaUME3mq1chvVHtEhp/a12LyKf9nke/1XU+Y6r/7yoHOwKiIXsPYeArLeH\n",
              "MXaDR3nJ9oejDLaqBxwfLo3rI/EkI/rRZA3S737/quBwvaqL8EFpnPEfUiCmwxJS6cLZNKFv8jnA\n",
              "SxSRFPBm+uJiMOnD1Zz1eWayZbHfY4I92T/T7wuhg5XdAKdqGZ6POWz7cH7YuZ+2XIjIVPPS9lpP\n",
              "Dpa34KeV0JPfgUid4XGr25abpXy5WCVwYZLaaNJRvzSDqwXVDZxjWvRBk/ydwS64q0YJ2CRhxpLy\n",
              "9x9b8sKJgeUtjSjPeSJQ+f8JWUQRW/PQNooxcnVxTXIFeiYYe1VoEeM+W+7nZVMaHTZQKntNe9fP\n",
              "uUkI5KhavLxLZPsM7ZLrtax8IiiBd7Q4+P+0U83mJdXnEFMto4qQ3CKkvT5RsnYIadUsRg/OSB9t\n",
              "VjPtS55HgNnfqsS8BX1iqSX3IpXtlOgr69DeHY/Uf84kBty9sTq24fqcJzN6Ty3eiGNRmKJ2g3cS\n",
              "DBgaVlggDZnIMKeaS6FID5SY9IBvcH1xW4C39vpzKgLW16WBM8ykowBBy26VYzdPTCY5vtTYxqb9\n",
              "rPOBzhPtvN7AFoR5q1kN1TFrcXAedJNjeuL/japhevFtCwWyljQ6c+1YbJjowlbH+I2cOoLHLk6l\n",
              "wutm4EdMi6dVecx1WpgSoEI/aeqm3EVQDxdTXX2B4KcA7r8P/bystWnbyqRNssbtnzugfWBw7PHA\n",
              "UkWyZHylNrtEoy+Rf2DZBnN+kpHN/p00aYa9KNIS21SwbUcP4hamim6J1GQvRUiiI3/8W1JcYO25\n",
              "yH9KX6a9pCU6wsqMOUfBdx+58Y39s67/0YOC67fdFjHiwr3H38sLvBrW8yt6ph2LAI0MBhaCDfC+\n",
              "XBrQgIp5LDaeuL2ae+AkHN5LTPz2nmAdc16OJWmIHXEqj3STvZrdSbb8IyZaLujy27Xn8TE4HXqO\n",
              "q1eBqT1hnVGuW3GgZFwtR4CMDqhvuyrGsDJZiyE4HWlVK7wr4XeeT5DC+hERUtpzNE4QMAYzXD5g\n",
              "5ug0UUC+8taT7M48LMbC8oUgRKpBqcltu2ObWZaYNR8k4h1c4G8wdN+cTa0587+91EIcFD4aJ7Ne\n",
              "3J6RnhMXockqr3N9PMAqV3b07n4L0jTw70KUXkMt6PbjOHwlhambifjKm0GxaSd/7Mhu3dshcgns\n",
              "jmrPBUj5pAi2dW8jyUv3zMiEUzpGluHQHstgy6UUKbrcVdSxROp88udf8UT8+AcnxTzDdkSzGwQ6\n",
              "SnkOdDxInLKHEmY5ZVCuerKwjS40LvEnB6tmhA7XiAhyGuCegrzEZd73k/SRojOXarD5wD1rQm0G\n",
              "VEWHj7juSqnfj+L8NgAJh5s/aT7V+6tckFGHRRWaz3Lxxsn+uJO2FLdEWcphBn0pGju+ehy5O/81\n",
              "LyryaoUc7+w0HCwHrzfwFQOWaIsWt/vcNWfWkfiAoSDqj7hbDeWoHARyXrpz1ZMh3CaU2l8oJCoq\n",
              "GfqB2/+aikLu4BoAFkElgCaK90I7KZToLrOLQ5gK7e03QvX9hEOna91lgp9Gp+aOtBFnRT6HIIbY\n",
              "IRBHdiIDH9AbeEqekpiKfVNX7R6EXdetRT76n7Iz7hxeYdkAovzS9yyC15+6ho8a51K91Rcp5Lwb\n",
              "DC7XK+Jbds13qNQjwVr7RTKvR+uB7D24jWCmq7ngcQ3G7kUocjwir3RHhC0h2VHo4im+FOpjgf8q\n",
              "zMK9GZgy8z/zHrIVPuFntVancTo98QfnFfRZP3Qwp46LECMb23T2ZJXUB042uZvDgYIzIfX8LIQm\n",
              "jc74pOzx0RL4XsSmZilTzGKuNNU2hAn8Q245G8THohRFR+D1tNRTzTd01F4RVKBALMJfqEEmSxq+\n",
              "yjTn/mssKYLhHVVWIgFIiebMImQt57dVt0lLjnqmpBLD8eP/Wvk8RUMMK9oifVBm/PztG+1JQbj7\n",
              "q1ffc4R6GstRqZpoJ7Xh7CEZJuQy8gwpsefgmcFXSRgS6R7W9GRISmGs8rRxPxfYzuZH7lHR4dlx\n",
              "xzY33of9+tG1WNIt2gXhOhS5VmRpvgHFJ5GLFjWhcnPcyD2SPcSGY2JzR+w3XrUVGq2bbhMR3uXw\n",
              "yr8FWJj4+U+TircUMxfO3856fAUkaX37I36aPiekG5LKNqEH9xY6MnUAJvRBU1lGAKMGhf//kkP9\n",
              "oZ8ZqYQ9TF7Uqs62fvUjBeJExQKnCzZgwHW1BTpJ+IWcpbvRrgma3Nnfe5mhoCP5HoysZ1yNs3gF\n",
              "A9ItYFmnnVZhyfG8+YmOvJbjFhZQ2RrPY65YQqj3fsXsZrbtwT2ZbnnHtQjJmIEy/b8J9pWZVR5c\n",
              "t6RdlwS90+ZfwpfL3I9X9ybHzGUM201jmaNvtoAqLO8yNGNKvjoqEuSSywh7khlFTqOO9EU2NiFk\n",
              "pLSQ0k9ryCGLaZXahwXt/qKoBxQTIqsbrwiYAkud5mSQZTKlA+z4ieZpLx4aIoIia3hnyfxeh+tD\n",
              "2vpbW/aFEOak2G285MkgyGE3BVG04BRGuNdk1q3K/TBef0/aYq3+PHG58USD3Q4TYCvryNRVCIKm\n",
              "yeOTUEvbCudn0Fm0DWOueGIbzMjEFfDhoGSoz8VlUUZFAESTkbIhk4KwKnS6Zq3sSWb/3mi6oepc\n",
              "WjkEA5umWHS1cAy+LCD8gAzdaQmN3hKi10JdIaUyaRjzAlcf/3CPDgBbGPU41wn91sq1/86W3NL/\n",
              "/dxSadz+LJH0m35lNZds/Obk6TVi7hZljnFTHMIgy8rTtmk0HdKRSDeEcDSzvqfbS+sIhcep6IIG\n",
              "yJti2to+Ykw4yEnTzOAthErluD7ONp8ZLQbAn6FZQZqWQ+PbremtXOMYvG0QBoQcqG6TasyO6MMv\n",
              "gHmp1aDRjPHqV3t058wwbWdtnINyiFwAWkm1Q9+hXPyAzqmIyXOQlFMgVg81Nphh2KLOwiTaUlld\n",
              "kmBmJFl+5aiyTP47ojycvl6McTm1u1aoroCp9CzoJS486/tbgFsIe7E+OJ5yN4vMgNM5xk/IOTlz\n",
              "cjBiISdng5OD+o0DsoE+yWGsWDGl9Pyjh5qrNoQUlWHFRNqIaJ5NwMlNqAfTTNI43Bxz0ZMG0HGb\n",
              "msWVL+lNuc0rbGAZ292pGMpEoXxLUSUDogK0FcEaYloBU2NDViQGmIiE7/EngAYfWnvd7PD9C5pk\n",
              "Cmkk+k3aSh9/5x5vXkbZJLYNcx0Hek2yiJsFw/B0A4uoEp39Hlm/l8D05Fy+wkLBMVGO5YquG3I4\n",
              "nno+LZ28EYc5pULd6YFeCHg5Wlz+4Ew1VaeKkvyxr/DvF+jlsStVriEBct3Wz2zEf67EXzEW0hCh\n",
              "jOz0l4w5KMnCPpYn2fJbnfUTcUbV3cVodtLA0pc1CdQ6osViu1soG+G8HJK898e7XBWGfegglu9S\n",
              "qy1BDsETPOEcFcbDmE0WR5QxH1WVL0FOPqLShkg5LkexzjlHQUPh745BL0SQLo5XtnSIBg0DVDrF\n",
              "TmEF5+Lq78wC2et+30ZS+zmTeMjAyZOjLx2oWwV6uQimQVTdHvOBk2ngG8owyqsGfXiP0zkW26rd\n",
              "VQfJPDmH4br+gTlcKCsRpR0Cw2lf2MetkoFQXeLgSryHh2j/HYHdGabz58ySGvs9AM+Rix5Zni4E\n",
              "Fu8PRb47EdZDCGiUNiv4xE58ZGq1mDGFqQ/+70xutIkV6EFl9cipS+JERU5tc+KFzWm01jIAFJ/y\n",
              "LKScY4tDjFLLbUFReHaUKNLOpHfVfj3YledP5EfqKRESha/V9ZzxfOpwWTJMsHNfkypzp0fQNqQ+\n",
              "ASwcBOGDSPUxdRI+pVImcMe7ue1Llinz5dXePpl/MWL4t2qwWwc/3bbRWM1gW2loAYKAV6P75SeW\n",
              "M5z0cvfjcFW5hyH6i8sXmQOxpmbVBNG17S7QEhhdg6SljCR9CwmXBTzNMToMmcwfl7GL7g6Fd7G6\n",
              "rtV30oEHAKhc3wvwR8rdy7/sKpdt/sX/xbWAi1muYmRl1osVtGAwdowD8/YQnGOSlKO4PU8DnANC\n",
              "gm4QumfOAnSPseU70TcEYgioikvf6w82AblNWYvy4bh2im0kSBJ4FH7VAJ+NDPSeVjGNmaaKK4HX\n",
              "r/wBPlTrtVHgSW6TNcr4ZkEOBVaDBfG3oLOV3lPTdQqaL2HfLj+5f+TZi3C6bwnPWOH38S7DbsRJ\n",
              "YVQ9Pj40eN+igAVknx18g1Vq7iMnxOGDuHKJ6DZplRX4EmPcVdzGtZTWMbOgtL6FBB7ZHpG6MXna\n",
              "8ro8pOuxwLUYc4di/8SyUBeAMYzbe+LUDK/JzPvb7HpfnKRLpJ1dV8tbnZC4JKQN9fxnxtxeaFLp\n",
              "usDpkiOXe/kzT9vt54yBoltKGAYFJ1fa/iFi4jfmxhmIeBFbW/pUlYSUpsNWARxAiUkAAAMBl72N\n",
              "t1l4yoVW3UlyArM3ULI9rsYm2iCm7MA/qnZXio/2YTAB+7tl4PIBsk3wh51HBcvf3SAK7+gHk9ZF\n",
              "6qiih8wHAxu99M1hwSJWALdgzniCaNPx4NAABGXwHKi7/h9q0RSEpOHTFlKiQjtdeZajoy8YcWsI\n",
              "OLBo8GQL6vqnJaIBgAGtEBXWwwfjPFY8PRVuMEEvkkYPt+bGpUN9BMGzYGYTI51Oem1tIhYIwKjP\n",
              "XWVqG34OQjHu8ORQHrMXn0pI5mLbKMi3tULTYlVjwLRF+GJfEIffHDIOeA7nJcZiF95YMR1jjUiU\n",
              "skuKfSz1P8PQ+y5E5JZTQw6WXox5JJ80oIgcCqJCgOmtuqfDCPwzNYx93z/Qhh/AjIZldjeGOmOy\n",
              "Ap3jU1xiJ2r/lmeYgCW96y/ZcJ7uhHJiMnuETZYdEQMOeAQ6RVxZUxRURyf4XrwcgjP1ubZoykSR\n",
              "fvpc0uIqh5H5djE20QU3ZgH9U7K8VH+zCYAP3dsvB7VfUeE2V8AJgFgpn0E9APJ6yL1VFFD5gOBj\n",
              "d76ZrDgkSBgsDYdEXi0xzXCiuh0POmfYOiAWkPPNfjd2duzadMSnAYwKyRmIqlnMDbFxXKDrh40o\n",
              "GUbRr7ZcGqAuHJC9xl8bbrhSLfjxji4DBOnXkusMts4DeQfxwdS1PXyXoHe2B15pdf3z8d/wEQUY\n",
              "o7Lw4KT+cKl1OOuYY74xajnORlEfcnvQW4IhYALZpPKg7I8Vqq2WkhR0rr7VAaiDzAUMy3sabNBd\n",
              "OAMqk8SXXneeul12RX6mbecmzhzHocFDvHaZtNXDpdJmWyAVNcJ5OB8XqhLT1FsIe40Z0yfpf/Ws\n",
              "8EBxFe0sSRGsInPg4ZWy5IMqUQlE6UxXgd+wxfDcbF4oWN4M4duB/6NCoE6zeMHTmhg4G6E9xSnw\n",
              "jUop/0gE+K9EiaNLAz06UkeILxRu76xNJ83Pwx/plQsjp1WjeQKyGqsb7lOK7CMleBX6AE9vjXHQ\n",
              "RoVT+IPI0RFfSL+cd1W+MsF6qooW0iwQagNGqQMNpsCE90C9etXsW91x8YU0vY7nNbiNZv8Dll1G\n",
              "ZtwR3M29CgxTnF3xuUKxM9e1rBE7psTDTGi+ZjhfOd1BYDDwlBxJVszenJFijfIqY7b9+k0mD0v+\n",
              "oLBvn9/2qqAX2wxozIdjFeoovq9FdjKD+uRh/UImXKBmEcZmGMIzdQz479GAVvh+3vKLd6JS0avK\n",
              "WApPsSKqHwdKgGUPdNU6XkazKyEMx2pul5Mxy/yK8sDw/DA+2IFvPcCn5eIp+vl+tRiKW9ilFW4c\n",
              "KR0m/9fHm5t0vyZHcyWObUsd9jzY+MzQuaLtOd5tZAMzzAEBXKJAWSqxkrTOC1EZUwC3CMesmxUA\n",
              "R7fzyOv9wZ+PwYhcOtNeMGqHqIhPiYpJ6Tux79EYtzEJUscDeV52B4/eQiAv2NVVqyrZG++BtF7d\n",
              "efPwdbSzHm6Rpk+cr98snhBl1jUYf2P1EGX6n1NEDEAEOWv8SdH8SzYBkZWYSHwDFjwnqpKiEsZy\n",
              "+g54SVDJpOv8kyvcLutZ9oGwgR9Hh/FIhX7nW62Vp42QCPr2k/7W9s5yWIvkAAADAAAbsQAABSVB\n",
              "miJsQS/+tSqAJoqDqAFCbeBd4AS9a2Q8PNRv4ZMZbJsGPYg7UDWYIRWhBVc/TxCsMdGnpjDxcX7a\n",
              "/bj4jT2LIn4KKfkUjfUgVrfs0JmPxObWXXa2TJvI+/BDMuD1A3L9AvvVpHR8KTNVjng62sjl4rby\n",
              "xGggi16YbMx/UYlNO3ZOYaVAINHo07NyEsBcslXCqXuHXEkD+K2N0eDxsx18Odt81gDT8QJCg6yK\n",
              "4WPXa6a6BM3+kAtL1Sgf835HNsLgDaPjQ/uU10/sP56soMcTGIqFMSk0mGdpwKdXDp7esUBJbVKJ\n",
              "YfPUQxP6x04bOM7XNdnodLS4x3orq6KPQXiNcXDWfBxqYdBHfvYY53HjPrIS/t509eQIx2WGZuVf\n",
              "KIs/k20cexpn79Sa2IPhNm5F8p8icb97k5/z50wj0uMKFGlJotzNPak1/kOLl+icFjnKAKs1+2Y+\n",
              "QtW+gy89PMgFZfumHJZwLmwh9SJvC68KaBoGvGDVQcuu+U8a8XHqdXl14Oz110fFCtCKSqZPQsjm\n",
              "dxRWMcMrXtfSSwMlF94PBNDJbL8Kk9OcceTe9/uO3B6gk6RjLiS997c2HELvo/rHSBkGGGIvTljZ\n",
              "RTLgGeWFAaiZu8apiOO7vHwk6kOECA7hcRy/2VCo1vhj/wOVmnlpEDG3L8RTleO915yjXzxboKxe\n",
              "+Pt0kjP+AXpOt0f2MN47MbSPEn23pn1HG9uVFglvMG01EOCVfJzlUaUMnjz94usARAqQdiGyjbpR\n",
              "lPRLPF/xiRRHUu84f8u4EX+GpmtsghCg78Y/w4iknQGtv++WGQWGXiBsn76jF7BG+noAlVVCxW31\n",
              "JE0mchj2wD/o/Msqn9lLPWtTI3XAPmYLirD3Heeb7AcNp4ORznPq+VR6DzzfcT9WNxdGFrgZlwNV\n",
              "CzTJJHEU4AstZOkGomzGtgBU++pUfgzQpRuLlnywpdmEbk2GYh9NnqpPh0F6lVDwpIUCbOFELJSJ\n",
              "R69+rik7qy1yYQCTWSxtBpSP5muCHukUoSYNThs0XU2AVJ3aOUEqDfql3OZDvgVhOv/JdiGFnz90\n",
              "AuUCrWKUzLIrIkjTwUQnQmuAqCDtWRdLz9ZgNES98dYZuu1QgA+/jWG9bZrd91mqDAKRw209eLEF\n",
              "6pkpVOTxYggFnJ1/GcGV2QigNGOwHkMx+mU3nZf8w//cZoWpEHl/u14HXFNakCtswQelcKBh8TEN\n",
              "793Vy1YXljVQL2hXCaRtLP+tqYSqhFU9V1hWME8BNSlcq1n4tg1ssgP7+x7vNvEad2KC8SqebGXP\n",
              "XJLZnzuMNE0dGkFxNUZr1p/9IM9dIktRlmnOXj2oiFLtlbQqnbA8n5ZWCY+JfYAL/W1JhCOy41H8\n",
              "UOA1LhbOGQJtWp+D7AW2QI6shtsVb/yWVGZPuxphAjqdqq68uhwufUu6u02TGMyaG/5q7K0N/uzN\n",
              "UKNhlKIwaeRHPytd5I8Cxsf01Uxldo1qyPQoyWGdJueyv6fgylkxvKon2ECTC67Z193KObwGb2dy\n",
              "EdfdeajmtRPWX/SJWGmuokvX3qsjUefhSIicv/2W03l5rzYLerbIBHqUo23q1yfvNWNZmCRMxGJN\n",
              "REVIiMkzgLJpLdoR3ZYL5JVc16AZL2lV5ZSQmJHJnaDrmNtss42UuL54v3c5PmwbsnlfnQ8r/llP\n",
              "p1oRT/l3ybwLesTSHmcJ5MyJRU952LfJPq5pLnjKUp9ujYM+D2s7zhkNihrTQ9uQLuh2DzOWCWVy\n",
              "HcSS2xAAAAEqAZ5BeQ//AFWRW+E8WUS/Y1j9WgBDKG1hGz/gqf2Ttaehmn9qrasqJMjKr9c/L8Cg\n",
              "THXmGvnLf0rALXZWxR71rjrd09iDDGT+WY+33Mlep0go2TT1FWL+w16IoWg689bu9nGS3tgJ2Chq\n",
              "peizmzBXi3YDZDalu2voLpYsp6RkVv8JZbVgJwvwLziiJlDRIk35swjEHYm3rroVxzm3Qhm6ePQd\n",
              "PP6Gwqk+QRE9BSFZaSFZmFHihy9GXxm0MIgJqdCQ7CjoJtB1oYlhf8FVbMdSv+tWEarKQdGmcG/h\n",
              "uZvergtsQw/nMsE2tonKqBlpjSkCFlxdSyNzeGt6GF1BZhyOmtDvGOVmUo6xvL5dO2XdB9nYcY2L\n",
              "M4KMwP1kR44qQNrFFy4OS3tOpwRnwQAAAvJBmkM8IZMphBL//rUqgAGo2h/wI8mAZ6IPIKGwwDHW\n",
              "Lxk7jUPwh2EHlrz847jApqdgrH482Ls51NwK99xf0zmiZS7+JFxDA1n7/vioWP3sX1TIGRil3/gD\n",
              "U471lSWeMIzONj1tN37pM4X7QOpO5437QRbdu5KWMZwNFhxzeHADg7Y7w7pIaruMs1GiL3Z4u07Y\n",
              "R8yCqH2LpiV9F82MiYip7xKbd0wEm9bKoqADSQT4TE/ByLS3gRrv8MYiCn4IwdYTjaordehtMdbb\n",
              "bjMLzdjQJcrxYnDhTLXFXIVGPDaOoL07jCmdt/L1rqvGfgmF9bvrlZpFrl3So6U8HL/nfGrHTpwk\n",
              "82LyDZfYESGPiHgSsy7Pr+tYG6ZD2F4iJR+vbBJs/XeEf1NftcKMOJNkHaMPnQfFhlr5RpUX2BU0\n",
              "kMUTvaQgbJ4R+hbGN8UNxSIjiDyPwahggjol3JYrVA4QBIvLC8+rq00KBpfFyQhQQv1FekqbAOTh\n",
              "JwmJvkl6VIrgZugROV5u7YoXrEljup8iUOdyAm/3mMPzBMshaq1MeJENqBfxpPxKH+SLbF+zYUdx\n",
              "C8bSHcm3SSYYoQjBrVDWrv/zm95cpsJN0isNLWmsLSlR7qHjikdBX9ZWwzq5rtecEeaU81nGZOon\n",
              "J5KtLIAbQflJEhLsRkjWKV0Xbm7oRESZD6lVTM04qM4LMkTHxQD1oJCJs4QwkD93UVEadiamlPYM\n",
              "L8yyKiBQW+XAuTFtX47xBvLLWmVy+r7ICkGj1CniXUohLOzDQmxIP1IX9z5+v/zxQy77gpHfhZJU\n",
              "ZzbqWQpatL2VeX852zeul/1N3vF95K0KGWl3sodvJIxmnBW8RxTvLj7K4zHOj7rYHOCD/nZdWZLe\n",
              "eWOFv95BVfjiFl1HAqDXBHrDMUlMDaX7rHox5KaMwyJQpf76nXLGhtCuk3usOaBNXTugjh4J6AcU\n",
              "JPB1ewrojlsu4dcYR9a3M0lzW+Xxd2UimKVb3h1Oh1MgPyyU7LcmAAACfEGaZEnhDyZTAgl//rUq\n",
              "gABvsrr/B9rCqcckGIYN/j2mp38wTsJelgaCzdLzjkOYgY2WJYql9DZlaLatd+rxGKoMZxk5jMx4\n",
              "P3d6L0LuYJhMQ3z7dt3qfSF3IAhhIApHex81XXvNsUBSG1nHgjXnFppdWy/VClxQvMTM37WNfCM7\n",
              "40Yvd0HxAedYnt+/K0FLFpAj8meKNft2n1S7gMyanx5jLqmjipZuJIMCw6o9fYe9GD/nmdOg0YcB\n",
              "juPisLIvSVTrTpGWcr48NWuuWVibC8qRFyjQy7JaWm12AM/C1IIh2krbP21LjZOEf9COXvgnSOwb\n",
              "099Ipi64YJ6S9SmH1YKIQGKXSWDchUbYd7XIOn9CsUmzASYGUeRBDqknCs79B5y4/KR3F4zONpUf\n",
              "B5RWG+Kc51C6cbil0B74KaLpHGXAvy6oB+HKbqT/J8GGJ90GGmDhEwfI+Af+fevZlaaZNBEFuNlH\n",
              "4rrdwcKwvsq88hXo1jnkR0yJ/m8gwLVYAQ/Z1+7uYDSM+jpmt5QMfh8a3QTmmCJEIOAEQzYMsaQh\n",
              "Plt9Z5i0D1ZM3wOWMqSMUKV4fJYjyZgfdouBI8nyhpcqMl/6o0q0v6z4PrHN2VPH3yFE+Zz5Lk6v\n",
              "AnnOA1FooDQqkKQ4WTLvcs9Sk6XWyqLDuP00zwQhOuMy4AT1fSMAB8zBaJI1qmY2tb8RFH+/kAig\n",
              "YLLv13+xItRZG3FZOCb3yyb3jG3bgm/LNr/3H3ceJzVR09qjXDPgDoKIRiJ3cwi/WK0xtT6kkbm/\n",
              "HiyJCPjLbcthn6SCvO4UOjN5At0f/1QzsI3iCrHGMvl4keOoBW3YWEQI1xzENkHAD43aJwAAAmpB\n",
              "moVJ4Q8mUwIJ//61KoAAb6wjR4oAoDMgZHDoLIl6Qsj0Pcz7aiYSQuPpocuc+dwOnJEB+xxf+rC4\n",
              "fRLQWaLSlNeJxUj1JBZQom28f7ZPkoGeHf+d+efG2NbxxoL+9LsEBnyMtGg/GYf7unfG95S5Thdv\n",
              "bHLq4tMKLDUHqHQJ9+rNz4KK5zp4lkl+Ii9q+Tq7t0DK5pCMGm9bixsdEPlp55jbnb9k8sRfBhrN\n",
              "xRfKsXq3WuzmV8OezcJZ84RU7kDi71i/dxp9crGaA1qr8btnH42xrK/BQ+EEqNL6hhLzfloHE+3M\n",
              "76lN15PnCDyYxkyzNrQeVXXPm2aBCsPCXi8Y8I8Yd/Mx3QfyEI7M6bwzxW65sTLqb1Wgtlc5LX1/\n",
              "e9QTDuiPhI33yIJQoB8EfSx9aUMBARaHD9Gf3Fhs6mBr+I6lty3mGq6tiz88nkX8YKnPdPNa9J+p\n",
              "1RpDDS3+CvkoIEgqttl7cRK0Eed8M+gE9NQkhqwCWIOds51Yty+9BwAQn8mUwsNjrl3M4VlgDAzE\n",
              "wJRymh5biywdpZDN5FhMGE14YAfY/8RAfe6hcDnn5dhNzEz3rO8hCZ+Hx1ftxV7rwYbJSZADMrne\n",
              "AHqK/wnhupFmuIX4Y7NO8VdWQ++Z6osFG5/t3pLkc7mGqyq2ZizvhtbdQfOKLccmCfLFynng+F5w\n",
              "DS4eDPEo9i3/5QR1ljnaDuIMhE7311w5xIsfWDZ3UqCn01EqDcuDuXnuaYsqoeU/0rmX+23PjrWq\n",
              "/E1Gosfl//RKF56IivO7RtPUDBU8w6QFfqDVaHiYsfZQrW0G8rN43DGpR/XMIkEAAAN3QZqnSeEP\n",
              "JlMFETwS//61KoAAbyX7aOiqgBNTg1x4FVmTlrcyJVVjYjfhgiFG0IQYU2z18brNQdPQ2+qvyc7r\n",
              "gp/3ER6SuPhS/huHcjwt+D3OG5pMrOG2UQ/kSzZnKEuhw9ekte+PP6A5tCOU1uB7zpjedq3M2nE2\n",
              "aToetQrIXSKtb9/LkJZBN48EVIJHfUNrdiJPK6FAisVOzAUyHcnWJbw/NCvFo6JVN2oXg2sJkNPN\n",
              "QnN/rxaOn7J2RD87BqvB9KiqrtovS3zDvj8bVXztd/IX0DNBqIzKzAhLxw6xFfmQOCVel5D3rXeU\n",
              "GDbWDGEQ7ZIwASoNqH3HTEUunh3y57vW3+54o+ek2T27nhbUxlj4qC9QlWyWDQTsHtuCz8FFYH3U\n",
              "s0kquR8I6XdYLgryDrgMoa0qSUPKv3yL2kX/kswGGWiS8xPqe36agMtmze73N3JIXDlFLUgISrnx\n",
              "8kFSFUHuq60k9MIQbXM//eSsfBJ/uW7qXzp08ljQqfPFq8gTG+wqVfzWhmg/4OwFQGpWNyjXvE/1\n",
              "RNyGZhq8Fs3tMs7C17uBbUOG+P++9m7JcyX3K/f+vIKgdcFRiXbV6/loAYaywfeLHn57HIrBN+GM\n",
              "gFUQU/xDeAvqdI33794rI50unOxjpjxVWWyiZXP7EE8P32g0Grv83Opunze6Sx3zr+2BvEcRzn/7\n",
              "VSqTLDgW7G8DfPYgydauwSrQ1BbB100BO/jY9NOiyjLid2Ybn3hG3ISf5JinP7isbS5Hpg1IVWRV\n",
              "5j/C8BbMgvQ8hYrIdYe7gfzRop2Snz3FkXqOa7u2Won0UC/bowzUANybEzG0sCidAAycOV1jtfnc\n",
              "UN2pcVOQAZdmQC+4uvARtgh6hhlOyTkh2JTMeRCfEheJ7kU1eOHl/MYxmhx3I1rXGX2aSfUZtu6X\n",
              "DKpOOZK4quPhOqWoysFlkHZb0q4+YXgQd/7/1E40Necv4Aa2aiBCbE0EeWBGBYVDypdbaP7HpqyI\n",
              "OM8Y6My60IdLIxDDidw5fxLpcXmzAGTZkYCw9M19H6KvX0dN9164lC1unmxbFseXi4zfQ4+DxquT\n",
              "EjQk+oI+WbPw/OyMukxXtW2hGK8vFDXAAAAq/DTEmKtgbNWOHs0oIY9+0QZZjTxsW7Gdq7qSP2Dx\n",
              "+FJpxUIfBv/L71gHAgmAisX6UeH72AEZ2kEAAACQAZ7GakP/AAE1O2iHlwAbVNbC/TimHkxsW4go\n",
              "i/XC6d5g2KXZuU6FCDkyGbIhsFQMRk8G0JwOGZ5vxRtAlB2XuRAo3DiaGpLEFNC+Fq0ok43MRWG6\n",
              "nlXYn3UsO1uBRWC8/mgposiSXrLGmFTW++YEEbu/hhceaqPrA4wxeFwY5aKNjJGIKUFgqGYB3eUJ\n",
              "8wNJAAAC3kGayUnhDyZTBTwS//61KoAAbyOXyitTmJABuoNascCJuDwdIEuQXYVJa4DLaoLhxjX8\n",
              "vtYOvXRiAVWxC5rhllrYd0uhdNsZsl7dPu9RCY0QJE5DHKTtfCtPV0G26QCWqOUAV67TV4+Q/STH\n",
              "lm6nR2cbK6DuyFiYqK/skTFfZCMrc6qWKPtgSvZtYRFhuoyP/s0xiR77Ir50F1FXJ96QdSQzbb7D\n",
              "AneNcDVVuYAcyKKxKGXf/rebewrYN8V/2TjwWZmVeDIgxN2yKM7KixF0v5oX1Hi8zZ5HvSHH+cTL\n",
              "F1fcNYS3TzD11AktdTWgJ83qvHhu8Cyr9pvFzI7nU8AdFntDGMjoYSjqB1lesF4oS3MKd/2Rl5HB\n",
              "2+Od7lQ3s0UBOKtVXiRTTLBrfwc9dQ5tkDdaUX826VE37UDu8sEt1GoLnZIsUSo37jLW6Xe7ASZ0\n",
              "nyrf+LoJjst3qWaXgCRHOCQ6kpAJa4rn1mkU8ZSu3tCi6RSDr4joBiUTCiweLpwyuVlEnjpyOIKW\n",
              "TTmSZjBHTcoTFSGjSQeDDM/GxoTlptd20KW3vRneBvRyhB9/t9roHqPcWQxyQRbv6P1zGozC6AHL\n",
              "t336t40Bff/W+XNAIgVtOk3kiFs4DPCX0E2nICwiATGLM5QVWMsqfnnVbOWof7xISOh9bCACfCBk\n",
              "FU5XdRymh1k6S1X/Bo+n3gWJc7YKvPbhR4F4mVegWm7aN3noMpCO/LDTgYa6CgCCG1wBOqBDzxM3\n",
              "mV9A3oaYwIyzXIMA9UT094TQ6iO4ABauwsPPOLqKzc/op3fAgYSWdT4eHG6OZOXUq/MIScGlgU1c\n",
              "2OwSdZRPEa90mxwqOw/6aMuUfffE4dDQHkL3KB5m7Uoti1Upm0VwzIB2X5+fujftkfcc3be8GHJD\n",
              "6uld1Zuc07UOkSMXIkE11rcq/gjwYluHX7LvyaXBFb3HvvWsiMj4WRC3jy5Qgqm7ozRghvNmXGSz\n",
              "AAAAZAGe6GpD/wABMcRVTwmNcS58AI6DvwpwK9uNC2Jj8l00fRdpUk4HprT0IXxDgxRrJPgsRTi1\n",
              "5PDxcEV8QreTkLjAUsaKIVfg8ex+tPUi5ePuEDGSTFuagC7xH773GcGCh+fPMHAAAAHFQZrqSeEP\n",
              "JlMCCf/+tSqAAG8m7dHhNrOAIoxU3+XfWjJ0hbziqccgDGrcVpeNTP/zT/hYtCvCsL96l48agAdQ\n",
              "Jegxhl4xS1cVJnylJzgtf/xzRwgQS+nuqmT/j3PNZ1uhh/zDtfvkxFMc8sQTtqh9RUYOg3Mh4k78\n",
              "Cp/og/LAPfXPozLFYi4RmsHzMiCmJ/f4wlaPEwnshKV8leNv+/UcP0DSd3uwfoZITtFi85UpRbn2\n",
              "swVq1e6cW9OIFHP7LY1WO3NKLKHpHquOf0czSsr0a54N6d9B9ldWPkcj1JrcZ2IhkLAZnf556EeV\n",
              "0wvoQmK/AsEv+CXql2f0JBvTbeFy82mJq56Q/EUQOzPoqMZU9gSAwW26AgGOw8lIESTWBf8W1lMO\n",
              "atGJPw6xwlLS2+jSLrhFCnzLTCTf3+TvX+9IssVBTxSalA9TAC2hJ650gWycJn6j669hkPJl5Wyn\n",
              "NlexUxJ9a7U63pAQ66eZKgGceJBZm9eYgDKyxCUj+PWnBqOuf9pGqK0ny54ytdKwTa20AKdCBRzM\n",
              "C9Nd1sG8TL+WmP6TkS2LJ8nHh5AKvaf+uyW30Da04mNFuh7Vn1Y/+AVixidmwEfBAAADNEGbDUnh\n",
              "DyZTAgn//rUqgADe+UIHigCaXtzEUCNK3ldABoRjVOORuCWespyPD86PKWZFVwH2LlRLkOX3kd30\n",
              "PscJ30ELvR1d32eNsGMWS5sY+1d+1wXqsGjLeW6mLzBRvkStPmAUnqac+KyJ2jM5tR8nDzeITpxl\n",
              "H+ateSUwGWtoL8zSctsOo/o9VTk5Ok6NsKx5+YgUihFPuG9Hfmf6sKZhwdnJa/3/9kGVZwibmFPy\n",
              "MN0XhLRVq4wS902dY4gvT4gyqDopp+FUh7YAPeTgnglKRL2pAG8Js/i8cnIpZjkQKgTmLLKZ8lal\n",
              "y1Rkpjdzo6v+ex8smJS6lMTTJOUaBop8vyCMPM19zXeuM2f5SshLXu1k6fmqtsO5yKioF2I2Spvc\n",
              "8FjuAEkxI4B0E12fJQ98eXxScQyNevrKpueK4hUndx3pG58KiYJPNPCeyp45bWtal7PCfzm7UnZa\n",
              "vDNEic7vT6THh29mPm18Mdr2P3UgqluWnd7HtuFQ/po8eewAxN78J55VhX7t5mUwMF+W+ltY2WR+\n",
              "pe+zn3jujpndXs8TrfL8lapsKrwr6VBbZXlaZDaZe/jRbu/DtiLbbhG8GnZFtHLTA7m+onCFRrpY\n",
              "08s8fNRSExlq2FJL19Z71VK4wLbXe1YQm1yrWawq3Qa5v75MddsBhISN8cgxiOyDj1FxyUHGAA6d\n",
              "QVJuQQnkCgtJ0PmHIOjWemgB4LU1y1EL4rIFRiGj72kc+RCaeyuJLisj3c8ueEpxVR+xWFQpBbaT\n",
              "78CTCFZ5Ebze97uFQdu4mWUXvz07k18PS5RNKHhTvlCessT/NrL9XLzrNMpZosx7erHq2cei13y8\n",
              "QZqx25nScpSBG4QxzNv/FumfK2aRlOo85V8/7sUrsmh2d3CJ3AgDTmr5shOXLgxCJIPbrFGoHW4t\n",
              "ZvHIci0l4r1V8mvrNb7lb+edzrj06S0FGzmCWs4LOyAIgczoIRaGLV6wjL+3IfFOIbUxvOOJan6n\n",
              "nO4AsnDrThZE1TgOZG70I7gRyRN4L2fQr/rCimfA67XVyaBfl11kDO4zsAe8TcSksom5IV2yavHy\n",
              "Kj3o709nFGY8mMtEQ5Fgm2AAAACeQZ8rRRE8EP8AARTmLSMgsqLpQAgk00KhO/9yyFZ0MdS9sxv2\n",
              "q4w4Y/tB3J2H0Y3az0gWURYl8J92nmxnkjqeb9+j2N+1JSIoed190r6sLR5IqdPYq7Sq3xapHodT\n",
              "balaC4OOLl/NqoGg4x8K4ih2m+TyspxzihXtbNMV+PmyD7c6PRZHIvnG2bQzyyW7y9WsP2KsYnKL\n",
              "j5j9K/q7Y7QAAABVAZ9MakP/AAJq76eMN68E6cphES9eOMLrwAjkgke/yDdB5voBb8+PVvf0wuYo\n",
              "Yw9sEMTG+fKcDZQQQmRLjzK0iPHcxttkNeMbP27SBRYMF3EHR9g3BwAAAvVBm09JqEFomUwU8E//\n",
              "/rUqgADeTpN3aPpLAF/OzLw7tECLGU6e3DeM5NIgZ/yg0YLVgvrkTxzPOTcQXbkrEAQp0S3INieo\n",
              "yxnGf135lu/0dmedET9ub8bMufYpKxYsUOD+3FyzJY2qEWNOSbfDMT1s4yFKYAJJe3Z0n+klhIIj\n",
              "2n/+ENO7WNBMgX0U6UVHfo5sy05X9RdhS5nnmFBylwFaiWoPhKolOL36ALx6LNw1hY6hWI+SvrX1\n",
              "rDGCiIT1kstZBTWHz8ic0P1b37hs0dJTzWx4ADQDHf78fByod7qxi2/zHGEtl06UVE62CwRGP78C\n",
              "PAQlCmdx6+Sjf5e2dMLnE+hAP8xe8F//W0ArIXhrw+rOl8Fd4rK26hr4LrDSxHXNvmXM9F+Ffqha\n",
              "elXHxtlgi4G5tGf1CXbGY++aidU9qHsa2zqCgbrbY8JD+PePkXSng0+dK+3KY26SbkGx5uDNQtbX\n",
              "8wxn7s69Yq6/5E+I3wzK2Upeqrxconk8kM79Vsjqw3PcfNbF95wgkioTFmvFS4CXVgK8HHkogOXK\n",
              "cEZ/kFKfG3+T1qdFUuAelHYdCza2oYZCEwcMhZvqsuCGY86rQiIIRriK5586w7MDIM1pvs/yhAko\n",
              "OEWOG+Y9KLbcouZQPUZcWUwFxq0RNcA7uXmmdSO227JR0HZyXERc3wXG6W5txxn/ZDzmC8DPrJSe\n",
              "zo1lkjasDVNjGgUoqkoqJ4+upBpT01fMrxAn+kucVNTl2NOu+1ao72CjLSfgIvjK4sHaDtZRWHWV\n",
              "9O8zxmf+m+jM0UQk/ca576q6edTRwCtm8GbAG3haqeYofIfLGQa7detF2lfN4gmKs1yZvBQ4Y7hH\n",
              "OY8F/LVOmnCSuOEBzMqi0fo/MKrpIWg3stTywjhGHtjI0aiMtdyDx9JZIGOAMqs6KlDBReGUuMdI\n",
              "4OW0anUikBby4esuM4i9cU9Q3lUZap0FNnK7tDXg34TlIWpWiHhavixYvcw9TmZDlNeWzMrRyu4j\n",
              "25JbAAAAWwGfbmpD/wACaG0pF5uzeqnyWo6cO4TsDmDEALfNOAAYH6kUJJCiDPtRFcmXG74c6ThN\n",
              "dPm4wq27dAuRbBGOWxRCZ7cNlD8nK9lO7QsiOMe+o26EUSBjMPnsGDMAAANjQZtzSeEKUmUwIJ//\n",
              "/rUqgADeTpOAWnXtAC9OQQifvMyBmlOTn9/OAswb+7T49NRnxzwODHxbv86a9yo8rExRMLKqV61w\n",
              "qHTOXqCDZjfE+eGCZYRhKGdkRon0PTiaUyNlH0c+hBk5OlL4yCIx+DrGM8/UEE8vXTMUNORGpSOR\n",
              "PAbRXtmw7gJxpj+JPB8QHaaKAG2zD9nRBCSqvicX4Ke7zaJMroRYC6y2qrE0KWMunKwMKf74rWef\n",
              "RMbFz1JW2WYF4v9O9p+W8SLcQw8/ZQ76Ic477gTjgWtuayfW7fFI/1iZ8AzGoaPkFlRXhOvlcgEZ\n",
              "8Ll5S2A0a8P7Kz28dX9/P1c+89YHLKi1zjOazf/ULUIOLe3aAJy58jUQei9Ec9x8xjaRLK0TYtN+\n",
              "bcsllirTSWiYmg6ZrqAhlJbHyUkOreIkwl5mhlJWXGvt0Ws7HUsILQU+wMEjZkYD4HP3R6Wvicwx\n",
              "vabIBlb49BlvQzdAC7I8l7W7gqP3jr+mRapnsVdizccowd72oypdkPTXhXjzBXIJrnX2yz1q1MTL\n",
              "LjbbHGV0voWvFD465o7JqXyMnlJJGBHDZuToMNmbciierU3hEpMp4iYgsYBj3Hemzk/CIkVwCn45\n",
              "RmWLUAcDjpOYbIb5n5+P4gSja96AqTrAWZYxoE5PYzmhLOKn2OdIzI97hDhMEUoAIelzT0ZVQ1NP\n",
              "rWb7fr8HsqUiPzP5tnJGQPjAiiDlRsXFBhdIfiXagz9fLh60bCpXxFhncOk7et1tO+Yj9ANZOvig\n",
              "8SErS/A8ZO0DwrmSicD8W32SxNmQu5MDDyOtWeXCdaGxCPmVgHknsA1kvEG7BiPSJ577fc+48uoh\n",
              "xk/fKOkBIPg4CQjauwFVaIdECnUDCAwAsznwnsqxtbeMk/YJro3aWWO1Il3YfgydPhFbFs1sDR/O\n",
              "cuEgcJMEfMLtLSjzyVxTS4tr8T5UZ8LhQ69xlM+jG5/c1mLiH+MG6P8T97DRWKjmIbQYKJCaovta\n",
              "oVOpNcRX8Bwi8Xl4KdyevE9DfSeeN4RQHuCGgCpr0TpINh5R1RbUA8QtvSfWSJSZb8f48sbnnWiQ\n",
              "qk5AU+YygMuPKA8mnzH2bDdN8KwYFPx5jSIzeSVQoy7ZUSwQTvm536k079jZz6oMulFOUcHGKCKY\n",
              "AAAAmkGfkUU0TBD/AAEVKlN2wn2QeWd8LZkUq+1/NAAA2rASRaIbqi//Sq5a/WSdcIymsno6EYSr\n",
              "4HDVoEXeUxSyR1k6t5XoOsw7wb27GVxQyHCIQFUGkwcucASYxXHZzsnMTA7Yr4zjZOxooJpupq0B\n",
              "u5w8QkkVaPIRM8WW4xQInYSjgwt9aV82rPjPlQsVK0e0ZbpREZfKRsZEE84AAAA0AZ+wdEP/AAJr\n",
              "LdXxKX4oM9PzDnwusIj2zhFge/lz55fhbi7cYEuBfb0kKlIYa+pL3EWqZQAAADMBn7JqQ/8AAmoO\n",
              "7HgwU+Fs06jPce2X9+Z4djDVg30cAF00fZmpqafzFwV31fkcpgXKYGwAAAK8QZu1SahBaJlMFPBP\n",
              "//61KoABvtx/oQlEP+NK9ux0tm5DZzJwkPZWMQSO2qU2roKns1wWzX8tobYH2mb/QPfsMdHUAbCX\n",
              "lfBi58+Naqj82A54mPueGk8Fanzz0OlOayP+NO0rz9P9wWGG8Pylv+cz0oStP3CvgodmTnFZAAYf\n",
              "rBNFE9WwcPYHAYKF8fsoHDYejE++qxxxRLp0rDshC+ntc00LR1f4bl//S5xmuwGP6gogdE2n/S05\n",
              "A9CALZB7zFqSEpmXY59CPgfZv9IVRmvxUF51NrP0+IDpInUdCgz5d60urRemouCp5I53kyahYPH6\n",
              "cknVJ53yapaWffGj0jwFgxrDp6Z5MZt8pyIdWhG7NWQa649i1n0mcT77pveC/g2plhSEHYoXfzgV\n",
              "lCVMGV0Weea30VmIRBFyYYOhpoYtdhlHCwuSTpqAyIH8EiPIJDLxYBNfZb1BnqnSYskH5fQBpgde\n",
              "68eYJG1hAgGFeznH2dQqKDZub/GZTn70ooyMTbPPRom6Mo/q6FN4TWEX4cm9/2YMRIAsEs+XibpQ\n",
              "SY6agMTBe44SHPncbjc74eS9zKKFIFKb0Ebpj468smRZg689eXPeqzhaeEnfB6DPpZVyp7teJm4n\n",
              "BrAvI1e4qoMv8c0D4l86GXvjjs3BlZuRGxw/Ty3xwQbC5iHjBSjq/dw3k7J9ivW+cG9hgPUXh9rl\n",
              "uxoLyupKVn1ndGOYoBJln2I5mTpcFGdxxcf6tVXsLFLkGz4AQ00RMlIiZdHP0s+hTh4aajwislE0\n",
              "Y4QomSq7EnPjABfA5y7k/Y/2chmkGnUB5a25LiewhXaDhy9H9H3+dmBIfdYMP2WONJOsmIIiN/wt\n",
              "UmR+NjQI6IVeEOV98O4S5ufit7LsUOxBZSKt9J9YKn1AQmGVZXoGZ4hd7DrgxTRR2NxQ6LsHvrCr\n",
              "Xi/AMgAAAC8Bn9RqQ/8ABNYNnEqJVFJMUjimAESo4qdpmBy4+V3bi69KAuIZ1xqPJWG47UqRNwAA\n",
              "At1Bm9dJ4QpSZTBSwT/+tSqAAb7cf6EdujQC1OO8CT5sgDCx0CkBaRTirSNPhAL0ZeJIeU5jU9Pe\n",
              "TvJ5ltyJR0i0y+T+nzDvT7kBjGRspKizuVWBvi5l6w7Y3iS3hxQxegcrJ/Irbm5XQkAVgbIMRm5m\n",
              "e/9EtLf0026F6yg4jw7PsKtlEN0EyOCnMyMgP2PyL45ix2YhmXkMEdz4Vfua3yG2aWjEjQAIvTtq\n",
              "Fl2Dcp5RpMW/81ZKTA7Abil6SZrveY/bBZl72EYq901Hrm1pF6kY8w3i5m1eB5KRdSa23NOnEUUA\n",
              "OBTvuD78gD/PVsKpdg4cWP5hb/+ZQqfXgYyrdH0UsbZvp57WH8G4jU+6AEA+j0D1tiC3cPtbLU08\n",
              "PPICKOLSGjB6vSffOmPocjyMCkrIoH7ISbRgJkK3aKB1G/bUQCcs9Qo1ZTS84RMmmiUqCu5XpNZZ\n",
              "cBCQ0cKilqpPWm7UuPW9/QfLQkXOUg63Zd1nKrkE4DkSIP9b/na86fT1/C+40dU8CVkn49YqyXpB\n",
              "WXVM0kDCKYOniWXl00bh0Z4VFmfA20lnfV4VY3ySZ0CT+AOzF4DA40Bh1t/IDgfx+bFvoy617w2c\n",
              "tSW559TCQfKaA7RW6Y40cc5+t2c3IGxCRCAPpTSNu5x6gepodGUGUqQvRFzH/VYllF0YAXlaetjt\n",
              "KrXhndHQiP/KpCzyR6jDaov0tneS4XMXaEf+abXu6AT3ywkIXqme45VrSVVW+3ozAIQn0rVUwQo7\n",
              "PRAGO9E1KwBPkAqUjj+FpgKzZkbY/mUQUskSIOxjHszc3jHUBGCnleZFFipqHZMmfXYY5CgGIymC\n",
              "c47NtfPv1d+vqUPC3tWLxDPz+fgLqULfXg0w6Tl5ZPIl/TzI9Pryi/DMMhHfb7u6u4tr2nadxFQY\n",
              "CqqObVKtDoVs9uyCgw3DnkqbA3sdIeMHSyQn1XPi1WI9LtxlBaFx0R/HEvyYyu+lajiWAAAAQgGf\n",
              "9mpD/wAE09/DL8ABz3YAAYs+GvLazi1dAWp3QWlbExF40u0PhzdNeHDbKLVZ1H/4aStHLN2GOz+V\n",
              "hfQn+yl2gQAAAuZBm/pJ4Q6JlMCCf/61KoABvfJqSXACUO7bLslasFRQXulTh/yA99MHTR7LzDMQ\n",
              "ydLXu3BbW0sJsPA2j1ePuIa5eLHGyDVHmz9SksjfPt7V+R/5vecB3JRrcEItv9WzsA1H9vkiO0XD\n",
              "5CYRsNG5KP/K8Xw4d8q4EPWc0JI4On4w/GSotjm/caanWRSGR5V7aPgE5hhHGY4zW8ezQ6KQi6Ta\n",
              "LwB7IfkeX44MTcVcmNk2DL80dtjVq1Qs/1sYJPXMzml6r8oiHB/HDQ2RwydX2JUzz9ZOR6UtSJO3\n",
              "SSU34rnfd6DrGBp2iNmY8JvTaESQEoAN/PFGEoPRj+qCy77b/dnlOEBpRDE83IehSrA7lE8xR5Z+\n",
              "gCtDoHALkhBdfXcP1ljlFcd2PHkv0jjCI8Pt2kXxk+zMEr0+nD3efr8GDqzwKCO3ByIIcq8cFrs3\n",
              "6L+dA5es+F7B/Y0ZXc7x3USaNjVct+j1OKDNKuVE7HQ/AwBOhKHYOV8XcVIhWIKg/i5/JoR4F0r/\n",
              "eAqjGRViKItYgZCDnlI8oy997CUKq9kei+Et2qHfuuLyE1VP4D2NvTltdrIE3ghIu1+gFFdPU5uB\n",
              "lNqry8Zkd1bK/bxnKKKc8ypyov1WktyWzm9LCqvNZ0DSXdOzUco5PaiKeztqDNMvPatSQjtW9X+I\n",
              "mWlVVgMS4QLsL5Z+JQ3QbgcDrZEQsErSybZwTNoZEIq0um+uHtYD9TREoolbf81Di3LeaG4T/8rU\n",
              "zzDG+gbCTfo9vlShSmGaRuHls/x+zLs3SejK137YNmmAwHIBJJ8lyvqR80FRX6ZHccCEuSFzhEdW\n",
              "aUA2fm2bRdqKqSFB6ANZU1rUx+fAMMygNoGJbsif4fitX5NfTRjKxCa5pqoU7FPpC+cqj5uXNOio\n",
              "eVO/zk1mA1yHMFG2yvb0++uPKny/fNpAAqH3otvXzcC8Bf5MLS7cTp+UzlSfl5iadsH3pdeL7RQx\n",
              "XLQ0VaWWjEfmDaJvAAAAU0GeGEUVPBD/AAIkB9whgBA3vdsSm9mVfgaBvIYNJQdhw6CjtVqm9tBh\n",
              "jjEJn9ldf9U/K6clkRjtLsVvllb80ux7bLgZSFa/Jd/pPvTBAJnPjADAAAAAOwGeOWpD/wAEyE6f\n",
              "bQAab+TLiCQ2V+kQXBkiHMQcvzsTxxwFTi0KMklKDPG79hzVEh0nFlP+2uB5YmNRAAACK0GaPEmo\n",
              "QWiZTBTwT//+tSqAAb3yXq7MAoO8gbU1X3pikU/5nFLFHn5AFJF2HKH+QZ9T4Ouf6Mz+q5N84ZYE\n",
              "qgPwz5mECeSQib7781Ki+5wjDNWL54KZxT9O9maBHuEyA3xSlcSFurLNCGH+aR1e4RAaBY+8cael\n",
              "FpGRzvNdCPY1MgQkEsFqtTuiuA2joTnWlRvZk0PRtjH1ikOaoFM4Krx7ISitbEmEYeDTj+KaEqDS\n",
              "zTUN0mJ2u5xe4+zUq+43q1Ld8eRas222z8NLrN+Si6vf2Hd3ucWs95oid1v4qt9AtANXO5BfZgAx\n",
              "ldxl052aYzTfyX65jcSH2BgFdEf4Z/wBK9oMMOR+jWjEd3Rc+NcBEoOF5mwwmEq1RLkNBVHuuygP\n",
              "RJZw+0bVJYjj6j1kOV0vNKnon0V+mqoUrQgncBbrm0kqIcsVtiTC3pCgkFgpx0ALY5cPJtYEgKZ0\n",
              "1lExiCW57QzmloW/XTin72H1N47CALSvyaaymLVLw+bbxp1njj8YBIx84EDf/jLdwE9XrRN7YlUS\n",
              "tJjwyD2+4KzCHJnYuKL2OHS1vAkP1Qs4qylf8ZG9GU2uJsZDjq23g60HRYF192PwZxQ6E0yjgEmK\n",
              "elYfOCwAZAEj8UpLYDtzB2wIUXdqJXSQ89vP1HDdXGjrftemyGn3H2CeqlG0PntH2Hq7GHXpkXjJ\n",
              "vHfRY8RnVryUNrXME9Sl0ReFAzCwd0ySGuHaOc9YK1Dkp1y9sAAAAHUBnltqQ/8ABNS/2vGgA0I1\n",
              "R4GT2eWHXd7HfAniUr4OeW8AB9pf9zO92EA8p/Fd5c9nGdg2bFOCAACe8CKs2W9262+rLyq6qcR/\n",
              "ElK6BVxmMJDepIP/t4pd/HU9VEjJyI7uLHlsVjgVtA15ocsUI+UPj8AlIEUAAAO3QZpASeEKUmUw\n",
              "IJ///rUqgAG98nK9kAOG6MXkG9D5KvT/UjU2CyWa26bdPJ4bvzP5pDxLV3ruFRBzncskVdjwATBp\n",
              "hBt8YKdSAs7X2GcXm2Go+E7jVRqvLmHzG1JCWcc6CLfeOCqIQYAGs5YAcg4T3eJHIMQa/t76Q8iM\n",
              "BsUKyCH9ZyNnKzVLU982X8/knSAlgNqUOOMsx0t1z9uJEPHPOwm+zuGAYU82zzKp8Rm73zbQ9fZ8\n",
              "TUWrvIh56jsl75NiLBHXJAIHoOfgL2GQxbe12s52utEGViZE2Eh/mivWXPun7GX4Fv8Rbcymkdxe\n",
              "sx1k3mLehMTbNrr+uJ5kg3kSQV3tlk2D5vrPJ961dEfmoHkIZxnuamkoyvf4P1rPfDc7tsaQ3g0x\n",
              "f4ibBPJEuIYbV3VjjEHBI1cqwpzyy5iAuVT23ONRumaF/26XlKuK3bFbnEPFL0Su7vJwr7nFaNe/\n",
              "p79eDAAjtj42nYmulNXEDHRkYFV4Bo7Z8FbKdrouictILwUdIkwTriQmcmFTkEFD05DLlSLua/k9\n",
              "1dfznSwK/50YYPK+qnJRWYZVT0GehmTZ+HuLzW/4WNrQtNDIOhO/6bN1XEDaedRyfZPUt4nbwvfL\n",
              "xTq9/zEoV6hilYh5Yj03w8LGEtOj5bKqSvXDeBSAg1MRpPmjgCY1M2MtNmsf1mmK9fWfG7we90+A\n",
              "FnNuIu3kCDPOgdOFWxX3OZMfLzFvXAIWtSYr/BNtU69S3XWKpcs0GwPuDmdufyU+iVmwgNTPy3oC\n",
              "vcl2n5VXIpE+aOn0zcozviwZi9WprBqpNNNxNt2GoBy0biSPSku8PcIQ8L5oZUrlIWFntC/vODm6\n",
              "ZgUQUNcOFSFIkW0MSNsSeH1kPjFm1ut/g9CFbAkilMoOxVXFdIDqRfaWxaF+WI/+qi/O0+52gs93\n",
              "Xhy2RxF4d281LYsGIinQpRP99Tr91BjudNiBZ/Td53XYiYPLVBKscpHMusY+eyB/z4bIBhpkCw4/\n",
              "/IrGOZjnJSy3g3iF11dq0P8hAEhw5Os9vnmC2ckePC3LCU5++NBdbWW0REI+izpblKrgDP1vBxDv\n",
              "3wds5uOpBoxrlweSUQSSBBRJQd6QHNqpnoB6uI4jjWwf3D0IFMPqqaFdCNKZ1gvZrNZlYccNPi4X\n",
              "f859pFNsW2MxaGLYwjNqr+KL1GughLk/YAZvno4/1+G/X8BjgftYpNyyW7bEbacFzkOgar3VhVEv\n",
              "Fz/z61sdtNNHAUPRHJ/rRZTx9jY1vwcL08U9b/azAAAAe0GefkU0TBD/AAIo5rBR4WABujL+/cwj\n",
              "6gra++qcxReIYFlVO5F+wiMWgZm+Rba+Jw8DbCErr3KoJr1lSAn0+fhkeq0ZkhJn1yCH079Aj/ku\n",
              "1+ioi/QhbtF+s7x47hVIPkBGCrefMEpL8h5ov7QeTlwmSlNLItdF8gSlKAAAAEQBnp10Q/8ABMcV\n",
              "0Hs428nldCztyej5y1iWZC3HdXCi2TS/adnEr5V3CLelGUepptJBgYPixSU4iPgTboJ4q5N3WAJK\n",
              "gAAAAFIBnp9qQ/8ABNP9NX9liC7+T2uV0u+MghvFrhmp5ryAFZlXCD7k2uqNgqReHeaayR7tVmXF\n",
              "CWuMljih1FBtSS/uz/Kd48nBR1Ig7MvODmla63IxAAACFkGagkmoQWiZTBTwU//+1oywAHI12low\n",
              "BAhVdTjP9WyVQp6hftMRNbrstp2RlLjcc4KglmYXwCQEzBjaah6oT3mBFV0un+m/N7RMuU65GJG/\n",
              "XaIqduoL+1Qw/9o4xjg88sVwK5/xg429fZIHRx49uH1mjc79sBHVW3D+MV4sPQH/o/pqR2fr/n+2\n",
              "Dkx40E+TCB7ikWRR54iVlGU0CMx+tGFpQKzUTLYZt2ljkM4MAaCmcbMhkzdUyYdE5vvm2/WClII9\n",
              "BakaQESIIn1xueVZ7xmmWb2i+6JqqRfImKnlhR8vprYnu33qSsBF30RFXIxuB+EWYKIrA40GJZKp\n",
              "9MLYCssx8tPz8fNHMQ4YtUyzWY0oHfS4uIqXQEqwSbQz6376sqoViGGJQrsGgLI2dbMQFa0yMXEz\n",
              "eTTTQOZQJ6LGKtJ7fLxTaH0m/GTC5VzmpSoFwD2q6Yw9ARdWrxbHldrHfAwyoSZdebRynCCIvNhk\n",
              "UPJ7RNTTzWIDU3q9qkAtSYM4ivUVFhFsBsgYiqLbmE8Q08/067Sw6/R9CDoNfmnPKdC6cpKETcyv\n",
              "QCL3EgW/vvpSwqg6X/qPnjd0R1tkcLeL0TS2+Gx8RLP8pGps16B/D3kqNwNFFPiIhvczYqcUKEod\n",
              "HsWSQ4r8l0HEGrcvCh9Kqik6587+vzvg9a/YWVHtKrPma6/fr1gwWrhnXVOsCKx33e/QiOKM4AAA\n",
              "ACoBnqFqQ/8ABMcWRNMf/ymYFMWFYoxNCilHvxn6lgyyKUq8f+3sn/wVKyEAAAMrQZqmSeEKUmUw\n",
              "IKf//taMsADk5f//DW8CLOwaUOOG1brtyD4e0kdNzgG+583/lw2bcuVMUX5wnQ96EVV3+QeKwHm0\n",
              "wVoakUa9uUhAccNqgXhIIsDCEisUiabiuGtAaf3SUCXeLXfguQYlBbQ5feX4YWYOq1WKTHfPz9TO\n",
              "9nh3kqf0bf7SaoMjjsq/0rcdK0ZSQREOTrmHdT89k/HyOTFRA11JraD/fvLWPi7//ha1vnnZASV9\n",
              "8gIq2KI+Dat/2Df8xWVXxxubeVve13U408jjwJYsy/eHkN8F4XcGE8hrKuDD/Bng0kfY/8F7jskB\n",
              "GIT/fl99E8xe/1+Cn39QB0z2T+w9lumobysIkD30rtBmklJFCZ3yALZD4B47GjrHNSNoT9swTPOx\n",
              "O4Rfwo/A9Fgi3GpvkbclTl4DuzvIjIFUn+8BDCsjWNuIXkFXiQsgphuWjA/CNopkmVXNgrYuQzuQ\n",
              "VJOC8ZZCw2fVJrOoF1uSrZEgOGvMvxFPBpDOd8Rr+kdTMn/6f4g3/AGj5qvTGxgpFKu05RzfklUK\n",
              "fAdbspwxmiois6+DMTHOWmpOKucvYVre22lKaf+rH/Y6HZkitHC0J198xlibwapc7z9WUranSqkL\n",
              "ZMWIm9+TdE+EQjIxEuIrYLmSGSIwMhiEMgUn1ax2guHCkEQW66ncoPUisGDAGOnM0udOM5pm1xB5\n",
              "Pi0avW+whZd+nVugDQM7Qb6XCx94R1od7CLIMKw/9mkITvLpislECN01jwgKZrMruX/pQ0k4JYgN\n",
              "CWwl5SWJ4ABBnd5GF0Y5cD8n60/3y1Kb1UpNyvK+vT0fiDmunE5VbgpqU9dTVPBc21xH3yN7bcmL\n",
              "BobkXJhPVPsxL4BF74VA80E2m69NnDILnNlniDJBmIPd6jVkOcmeBfWjYZtTuNJJ09GYqwcLkkx0\n",
              "6Ya8cy8s3R/QWSexaoFI15drzAsIhWDeFGdPUVGLv4LZe44RrAu8SfQwuWW+vgAxKOPgmzu3oFlo\n",
              "vRlFo+cdU728iAWZEVQkbAyV4LIv4A6h+miBOR/OIrTKJOLLrhC9fCoXKvaob+tqRbpWbul/oHnb\n",
              "viS6bgAAAG1BnsRFNEwQ/wAEVW2YnVZz9zk77MYj8aQb8AA2NkC/DHdxlhZCpWnYBjvlXquydzkZ\n",
              "xT0zXcirROBH0Jwl486IoJZFeVRlGkgvJtx5uDUcdk8/MDQfq9xPClhrN+C+NH/E0GWprSyrURNZ\n",
              "I/dBAAAATAGe43RD/wADX/+fDnj+bPVaT5yPSwAVUa0baI4ZF5Ig6m4bd+Wd3EqSkrGYvoJZVndr\n",
              "vP0foRTeMbtr74TR2zniNydhJV7cxVlVmCEAAAAoAZ7lakP/AAmsG0dj7T4xKgmK9Kn718MeU1cA\n",
              "1rtwt2Df8C3lxPW/swAAA+hBmupJqEFomUwIKf/+1oywAOTXcMYYAafeNsv7ZJG119lMdE4m6Kj3\n",
              "3efBJ3ukmoAnDCcMcy0mFOE7kn2KqpCPor9iPwLP9omhoqaewy1B5LUbciRwQM8JjliK2Cy8ZS3s\n",
              "M4Zc73t3xsXrAXd36VwQoZGkmC/VWsWhfbvTgRJrH0kLDP+ts7Xtyz3aeYKQMio1cmfwRgXnAc6L\n",
              "JOaDukejxx7CDgUN6/H4VvoD7gr9iX7ehHlUZuAdN5KrEoq75ehXxqzoOW24fA2y28L6a2N0nFhm\n",
              "YO5pczbjDBzSSIxo//MwBdwuG+0Ti2tx+5jP+jpCJuGgXxLLena3X+mCe79rpA017N7X3H4N62yo\n",
              "ktPwTkpyC7I+1hhdZ6+u4aWuPc7Yy61eJ/Qfty7dRGresL3HiunqIRVlCMZJ7+mEG5kRyz+MLsC1\n",
              "3XVEmxUVe/OKqZNESj8vCHeMLUUzvP0wlMAvvjDS7TjQv2wyMvk6MJYTIxlaoalMquJYOf12hFGZ\n",
              "9FGtkhOkwClsX75EpKwh0PGG6WRPsj5N1S1TwwhA/WVbyevfFHnTJTO0He46YzsnxuzzCWHrfjOG\n",
              "/5hTBOuoyo73mxvjWSwtv7LEOdOVH35IXYhXcAjSKbmoDB6z8WI+XdMWAxxGBswYLjqJvVmuNmsZ\n",
              "BSfDyHHCzL5Cilgp9cn2uJN+xJMw6Rvo5nQ0SRvTUitKW0dMnNUPpYuamHeF+fb+oPnlZlpIXWIP\n",
              "l7JXkMC7NsxbVb3gdt1AH1y5pBjyyJCPWVLdzAmmr7zplFvT0ROOX1TvdBo3vKA+7tssxvb90wZM\n",
              "hkv7Qqy6CyiQUK7tYsAtsOXDi3zZh6FnuIXHbG01WKaZITsVzNBv/mOjYYfEyQ7El6r8XFZO4CVf\n",
              "+AhQS24zMrwyT+S7oMlkO8QXnjgdo/QCVCfos++ozuFJCZi1IDuaUf263d51Tgc8Ry868Fcqg/Ig\n",
              "5dlBmSngA0uEDiXgUo5HTsGBM559Xf5yqHKcoUdqaCv5Vh07uzzh5kuBs/QLQAgqhe0V86t4aU/5\n",
              "llEvd3TDmrmcCqoZm3eD/F6Ujxcwahr6TdMeMIRV1L3wp7wEN0X8U5OHVpKRVgOVT5matuGOZ5QH\n",
              "o7mn9TiWAsx7hZsBi9AWY8GjJEI8l4hWsWCbyhti0c6Ky4f4W1LYGeBjG1uVieK6fI/sXmrij/AY\n",
              "dGA4pbj7yB7X3MqTIzQqd+q80Y61TX1PQ1B80D1Qcxeyw7y4ihUQqME0JtNBqmOsIisUyliZ8+tf\n",
              "bb9liVQTG8bPDJZgRvPhUxkfQMda6wbRAXxok4plqBeuPZbBJsKBhnER2bd80/pnAAAAWEGfCEUR\n",
              "LBD/AARUKcPMIhEfQ+RJZXva5CntkPI0gAVV7RXL6/XPXCo3wX6HvcgR6cFZUsO5QAxGi4SLO4FE\n",
              "CaC1nRKrkLCM0b46miVlwTuao+PmXB3/AfUAAAAnAZ8ndEP/AAmoMfvhsC3/ktu6OkpH4qnBPjmw\n",
              "qKQCJSjfjAW7L2eAAAAAKgGfKWpD/wAE1GlOfB0CLptK5l4Fm8CN89tfpJZlqdAvSZLlQvgBUB8f\n",
              "gQAAAvpBmy5JqEFsmUwIJ//+tSqAA31hJklwAxV46TyQxUTovXyDd8/v/x3AolTPLZQKrSGv8IX3\n",
              "5OWslyXmK5LZxmzDMwZ4bXgdIxPfOg7iW7ayW1Jz/9DvakPr6/sFGrFmEr6+VSAMJXNfU6CROZ6w\n",
              "1ZYIkdn1lc9Ab6V/KETpRcJbeabi1NRCJoUkrADc8iESIhBsuJAATREfLqbASImvk6JoM+0q8zHc\n",
              "SkhcPFML1n7qHaqg7NQGfafwqK9aO7pLsZ2g4fvh9LjSwwONJ/q/Iq5FI/k4D/27vXEITkqEA3iW\n",
              "iNQO4LN8VY6oJpqcgAPVpWharoHoUj6Lazvu1DNuCwKUlkQ9w3orWtfIN56bnQfCmaBQejJvCYPq\n",
              "Ff/LDwSw5nCUtQV1vXsp8b5tfHajieS6BtgtTvjtknFVvKm88esILeFRxifsU5KJsqvMQytZ8sc4\n",
              "Pa0wzvpuD6AfjooNPMF+hytg+ydDsXJ1MXW9MmbsEGL4sg1GfxlW1inFt+0iz2FVx3HzjmbntSGi\n",
              "Ipzb5orJ+eHECbgY71bycA6IW2v4TfZnVq+/xCg5gFvJqHAMkHJJfN4s22ryXRBs88DokLpYtfWJ\n",
              "HwCCipalfaH88FytUONfIU9L5iVqJkiTJ6lsaEJBxW8qaxBVyYgK2AmDFzyIvrAfoEq0gIE85b/t\n",
              "fuDsPaG9xJve7ZOegFAWJoFaKI3Maz5Oq6Zm5BCgBQMtwJiM01+17nj+DnUaTDfPOsbBRzM8LwoE\n",
              "OFCkOaq25VoXsDqGNTrTGOIONzqVsozvoCBP8K6omQmDarPl+D2FNATevHkf0xRPZ7g1I+vpcp2j\n",
              "pBxanIKqn1bkqzWCJq7R5SxiJ06VLcAJ2aBHpiC4EEeJ54H8wfKMEshMXzrWu41PtbzPhLg7NqIA\n",
              "XVGf/o3zBKtRc7Ekc/3YXZIh5fHQFtajJQQad7RMShwIkzQlfUInn9dj3qrVL7Vufx7Rf9b136ow\n",
              "zwdIRIAWBRDp/EoI/IYujai+oRhEkpLQwcAAAABjQZ9MRRUsEP8ABFJm8YyI0xQtVI83aAFPO2OL\n",
              "30QeYzjeHcIp05ut3NVk6X+qaNL+zhf2g1izYDGAL0R4u83oeEUlfFCGqiua/SczaKpn2il13z+E\n",
              "w9ofhA0UzN/Ckrcsch8wAAAAUwGfa3RD/wAJqhrUw+eFSdgMeCMdOyuYmwjb9QwyBy7s8ACs95yS\n",
              "pwNggu52XvFY6RbrCldVU9HU0CBEXBEhyGBYuoj7BjktnQupeoePXayT07OPAAAARAGfbWpD/wAJ\n",
              "qdt1OcShK6IHbzX5D1ACVkdcKNZL1j8m0vbi7uZwFJOdUseW61I7J8bxMOQ2jXx+Og5zgACs3i2h\n",
              "a3TBAAAC10GbcUmoQWyZTAgp//7WjLAA4+muoxgEaOF9/V94h89OWWT5pZ6sqisEPxVGno2WqrCY\n",
              "RDMDL74zcZReC5s9REJgPp/s07ItETNEkvYi2zAOUeXwUthtPKvdhmCWhSSohbSCMDcAIpzHFo0G\n",
              "/YRGWzZt3UHu5xO7O80beyxBN81RDTYdSMRYyB3xCvUPWco0N2HS3k+2ImNmVmg4JCKwMjEZ+LD+\n",
              "j/qBV2/GQRq0QzKzbnN0kMbZR2yKiXqaSLvQgC62icAs5OWjec3f6Im5A8GBTcNfE1Bzy02gRJ06\n",
              "yEoo5sa6FoXN5ZXoJdwA7NtDygmgqUmxDPiQ7epjeaIGIr+eaRy3Yn2/nMAODM/V7eQMpRj7ruUi\n",
              "lKLgeeoKr3KTuJSGZxxrOsZXnqP1ABClaUUzMTYxBcw2UiCpwlgDwdNCDk6RlKj5wDB/zDTtjJvC\n",
              "Y2D4nrS1sRLoGKDjzpVQqFLVCCNT8HtxsTx/RkQxMJdFWX5rc0DbGtt1abSs+8DzonfIUV6bV6nA\n",
              "MlwXP2kQ7fL6EEBYeMsba/a7JV459iFTYUW727cG6jNHFi7JIcOvX1YsLNxBrXN7BF2mb02MJjXc\n",
              "kN1/VjWsXVwlShy4K5jZaXddeJkXoNumbxVUzRpWtkO9qvj74+0CZ5hVjZlRju/BA9y4iFIugLkO\n",
              "T5U7CUcCt1VAgFZcn4KQpRqFroA74FC7gFGbiTSgJpKZrXERz/3zCPtsyDSHrm/uKk2IteOEnWew\n",
              "qvdhgtGERP5UTsVg7gC8YcbGE+O4mQaI6SUTEKb1ePvVfLqccYo/EDVPTeUjUzPejfLCoJalYsQG\n",
              "a6enSfTZjqhe9bY9GZrDO2VXzDb7ihcSz9xI9MsCSs/CI0T5q1ccFW/3jLQ7ijXdWB3Mq1YTolle\n",
              "mX4mks/gquu7WRw+xDWRePZ79JurBmAzXMPYZ+ZDX7FWXr1kKifc6sq4hd8ucAxGUysAAAAxQZ+P\n",
              "RRUsEP8AACGtsuKSzE118Iw0EQAC3pYaYmtW1stX8L0h0WzIbOxvM8uMNc0r4AAAACoBn7BqQ/8A\n",
              "AlsNTOb6wMCjmAQBdnx0DOPsRlr9qoL+JBFOlZSxhyX+Z8AAAANMQZu1SahBbJlMCCn//taMsADj\n",
              "opNw9xF3QAtofOOF37CzqRd9yDwX58FsnpNms/ygDljdHoaFfdSS5vX7H19UFLGgawa1WLUo116t\n",
              "11aps6pb00u7Yh19ZlzR83ZZ09/jXxrzhOLKZbnIjzNzfg6d0Sige00qKBgcBcTV5mkhty0tCpGc\n",
              "N+jh2TZPjsQuZnkdWGM6VwMk55CZgMmqvFDNTfN3O2c0HwF3jx3uQjQgPJADuHWJGpnLdNtXcZpJ\n",
              "Vn6vyYxZ5FzTd/g9kUsuC1lFevmkyVU5mQ6eyzzpd/eL48jFle/NtqMK4/ME9PJYdlYFf/kjRtqX\n",
              "aNUxE5GPDSXBy82yZESZsNnL6upoP8LfhieBCc1G//95rmy0rBRtCkISuAAEL0bqlY9ttDxTwWFX\n",
              "8aSxrzn7VTCr6WGxJcVIYqr5qwADy0sstBOWnNICnAzSN/tR8JZ4aYgNwnUc/bVa0CtB7CKrVP9X\n",
              "a0U+c9zbI9MBs+N/+30gS+KEdoU12wjhqsLtXXYioxodJyaCkmtRWF6KZXjVYhG1AtPmqNH6IIq/\n",
              "AkoFw+cAsXs4ZmNzOep8G2XBj092l5wg84wCMGxtT2fs0tMElSAI/JEvfN/H7BXSKUQaKxRKoGc9\n",
              "K3ZjDwpGnMZ9mbxWnkTpaT7zBA4KIALbMwY1tWV28OvhC+cchxjEisCL0jIWZg+X/pkXGAWKPtvX\n",
              "O8mT8yOGop3jnWsrTnvg9C2S+MpkUqd0AnT5qPggXYE8Y4i16GE4SsI6XC6L8Rza/9zFP0kTEPye\n",
              "tQ9i7CSuOCQ509efkZUV7lnyy7FYYqbgOVNsyFRfuc7G+6tZYwiJ449CkViOwFT/+tW9LTwhv8MU\n",
              "vxUcUtaT6wto2GIbCg+UYxs8iL8yPjm4EwkZqtzw3yF8fdsU2d1oZFS+sYxhVMAzvOQW4sZ9kkNt\n",
              "zNISSt0b+rjRLimuQOGkiOn7buf5R8r75k/fLxF1bDPtYbkcsE2xBq3nV3iPyzlFbS6XYZvvGD/9\n",
              "fSjaeerXuM2e4yuR9Fob1bRdaTUGP8XhIzwa7Qlr7Oj9BVo3F0pREdrPmdI8Aw256nba2vbwruh9\n",
              "T0rfGh5YJYiUeliWtBweVjSremhgXaxSLvjZgQAAAFNBn9NFFSwQ/wAEVZirGmYALBT1Va6dRWV+\n",
              "z1BnNZiaRRYm+uzb1e2XokSM1pI69EeMStSAMkwYVdKc4Arou6fAr7mxYIU+p/P2kP27PJmKdfiE\n",
              "wAAAAEIBn/J0Q/8ACaS/0vLkK2bW9EsrbVpHB/Qm03zzURFjIwey0vm7II9qTHQVq80Wy2eknd8d\n",
              "6vAJmBad/enlxHsEi7wAAAA7AZ/0akP/AAmo0qP1aeC7z3MCmTH/VbUIk6idkChCh2/SE1DA4CX/\n",
              "06jSQKLgi62LUK2DNxB74Rf+ThEAAAMRQZv5SahBbJlMCCn//taMsADjoduy9BCwAhAkecHWVCfu\n",
              "6gVNHd6YNslQPkTDgtZD7+wrWunC6mt3L58345fMwYpDwQACePp3CPDu59lGFYoy78KUzwX1+uaS\n",
              "uF41kM+2SlLZqHgjQxnMWKBc73nEviqBmlkHQ+o0EJbQXw16hbcCdvIV3MA/3ClJErOG0b1XOEJ7\n",
              "OOR/M+l5Za5Xo6cDDTV+HZarZhZiFuNmlvxeLf0s9l9FXaW4KKJOudAA9DnCn6fWv1e5vn53wJP4\n",
              "K5wxxXfntPawFDuJGr/NSxyDhqPfSBXZbnmL27fTeOtn0tkt1fHJjZ8Re3rH/4kDpJTeCkk+6but\n",
              "qBF5eD8eAtLmkYDTu6ySB3ZPkfH2cRhqwhx6uNAZwQtgaZr9Q679lKvQeh1ADbPtb5reN4B56cYY\n",
              "0QH7js2/LzMhltoPyZhE5WCFxa54DWCSgb1r8X/iMEj2g4WVsv4wnIiweylO1KSFjqrsCjq2YYSW\n",
              "/w+8tyMcy4UG/9YzLOkoFRUMYHg20Xw6hS0B3Nw1Q8aLfYk+tcrXyNy20pxWF1GVlhOSectEDf3C\n",
              "brGvlVZpuZh1oEMe0AiR/awLKJGi901BVptni2YVLHl3zdn9LQvIAjDC2AOXKohJkVPO8/5STf5D\n",
              "n4YPDxwPiv7hSVnOnzPP87uZBES2AX1EdOtB9WMRFFnpUkQIl77IAkjuAV3k1DfqUBUXSyOBnu5N\n",
              "LiLaPEmABAOkRDB/ec4sxUto+GQyjLD9B4wL6fXRKFAXAJzdgRsK/vvCiHcr1Q5ElGqD26IzkFUd\n",
              "n5N91titEyKDQLocinbcs2tvnSauMMIO4ceYBVzjhVWDxfrchzHleq5Ncnct+DZW4H6xQCOaatM3\n",
              "DVtyRBOgd7GX++5wUjcru1xIiQGVDJkmJz/S0+2RVdAvPWLPFZLi9sXpqanLo6CeMrqjm9kZ+ogF\n",
              "T2PzFFaSBEEpwzp23HH5+mIC9xnMXgV0RVcxpvw81NpZmQCw+VSLg1bXdxn/buNuNzX+EyLgH8Uk\n",
              "Bb/5cfccPBOQDYQAAACKQZ4XRRUsEP8ABFQ/3C4AANBscRpkrn2e5lm1kL/aaqDH/lTCtO+D3eiY\n",
              "CpNv7yOOxt7Iy3Q+zk57hNB6NZTLKUQ/wN3d+wB8K7P73Lcf5p8JZcO5lWBHTtmvy0ym0HPAvVmj\n",
              "WkZAqoysGA0IdENi0AP9A0EEnhIRv98ms4h/0hCXrqmLMCqux4eBAAAAMAGeNnRD/wATWM0GweI/\n",
              "4v9JJHLTf1qd3QkBiCLtqbxxc5rRKxlEBlGkJLFy3vS5AwAAADoBnjhqQ/8AE1aQQf0UAI4wbwED\n",
              "7sGUpiWVj4xjw1oO/5j7HntPfYkTnXtYMoCrZKUvlD/qM9yMhvZQAAADHkGaPUmoQWyZTAgn//61\n",
              "KoADeTTnbAObIAaew1bC9uy3k6HV/Xxf2EH4Qbr8oymmE0UrpOJ0+wmRvkgcTdkBg671nYovkT/s\n",
              "hGDjrIyb1VNgRT8PkzFt6XLKUdgLMrg9affyA2c3ne/CHrV+N66zkPCJ98Eccni16IcgioD7mnZK\n",
              "5/rbRcxlISg729bAEP/lb2aMgbVheTQPrr0tdidqOLv6YE/CNzTQIct5Gw8kDA5R67eaNFSoNo32\n",
              "CZBE8ZJze6FpO46aE53/sFYXIJ/0k1S+qDPLhLCMPnNrPDlg1Tg6yHNDueK9r862wycxlxgVlS4I\n",
              "wWjOgoitOh1xuIrHZ5ln5yv/o1aLfGT7xZvAGv5ZCQ//+dNfPKG0Jl9EoZ8q59+hrYcezTN0a2Y5\n",
              "5kIpl5+pQNKw+sD/wm6ISt/vdLC4LY1WsBeYjsJIy8EBXYwnt+IU6/B1yt53bVsoHLSJdfRTdPdE\n",
              "hgZ1+4bt87Me4SQ3LoEpWVXCi8OlLw78vijRZ/spuUb1O4G5NivuTdgYWPaqKM5zYEadoNMqMIS9\n",
              "4V4uNd04pGHtTBqTsJMDBytL2sYJEk9OW9SUKTrsK0bQO7oJLgk8cFuFu6ycWTScm828jsMnrEhw\n",
              "NyBgF8nOlRdy/cocjzIPj71N0dHo5Pnwkt6+vBN46/rPEDldJyoslGakhrXiWvj8YTnVEB1LKHnX\n",
              "Ube9A05Zr1rHUKBS/ItJcPJibGfoe7glP58BbxFUgefOt7bQiHQN/KJOEKsoQ8CqFTbnilK7Az9X\n",
              "Hb797QIG5kwhu8xdChd1TieeuPSENwD0asFR71EwXUTwmd4O5MGvKkiLGOFrkITlEQOtaKfCFx9s\n",
              "VMhSwvRVAR5osZSHWF8jHw7PVrsW7Bt+g7YYaHX8UKAE/cF3blYi/y8pZw6JqH9MUFfORJTgCeSa\n",
              "4nmqXKH3OGu6ADWkgCis+mK7DLLj9W9C87m74Tn2txpyl50lzR6M9JzrxZ8x6MGAV0lcKx7+FzUP\n",
              "aP1wE8O/5f4vl7uRTWJ31MSZFs8dC+iSVZ66zB4WTEqLi3XRWb7jIaWLdQAAAFpBnltFFSwQ/wAE\n",
              "S/WS4+PZ6H6KIi16JkD7UADjJVJkxIAo6cMB2P/uk8DF/NaP/jG8juV+aFz0Pb8FNdyJwka4X5zV\n",
              "Kz+5jE96wQSuklwxF/0z0nReS/VyfFgAAAAyAZ56dEP/AAa+6UemALELDqLLvw+u134UpbZCxhES\n",
              "EmPba0oN4vstk6RNphluk8KEEQcAAAAqAZ58akP/AACWys/hbaTBjmIIh31pNP2WMnf/ufjTXFJT\n",
              "4Qhvu/A/WzHBAAADZ0GaYUmoQWyZTAgn//61KoAG98p6T94ExaahrppoZOuKzZX4WKphUqV4WfAD\n",
              "HAvNmTKNe4pjUpMRiJK52Zg66v8sd0gfPw3PYA14D7G+QsF1gF46gimIJmElVAe6B+wv4XqWmzm1\n",
              "TMwwDyDuCk8Cx7/W9lMXbfRUIfFCWmMru+0Fs15lgmWxT9pubPNpkunjLpVJ1Yqzws31tYZzTzxj\n",
              "gHUcEvF+95mW9sUTy57K/ybrDIjLsEgwqqZzHA84Mql97/R3Vm8Xj1pL5tkgEKPc3Q4gyWi31jHq\n",
              "jeafqwzQhrTT4pQANYKq7dDwDdXaG9m1/nlR5I0emBH0S6wcKkBjCOBuLPsuHCri6/1xji1Su/9D\n",
              "dmTxj/S7m2sfzjV16UpwPbss0iV3ilBRGahqEj4rgRM66J7Ag3k04mpL5MHAT8a1/lUXGbiw/AdA\n",
              "TR0oYC+lNTG1eTmIB+1mWuvS8wDGzhqYXKll22n/aEXgWcVd4/eM7TxxR8bP2itowHpE6pe+jUdb\n",
              "TEYIMhBNEiJavYZGmm1prw/9BeUMQy0bnbigX0sj9Qv3XuoEcki9bWLAVXuYkNO7w6u7Vkppgc0I\n",
              "iEI/EWk1bM/JRIiu4DHakXeOt86WcujpKlupqfHtSYcagSpIXvaHZ1jWJ26HciM87EWVmA1jUrjz\n",
              "BlcOVoDitKsrDuKY1PXNNDvPoQX2v9vBCa9ThkZTkfUnDlzszqw2fDgU7gYOIYmqCW8g14ZvoVn6\n",
              "O8wfHR4YcI1y9nihC1CiqLpjnvymDB1UPJ4fYnklVc8E7B7idE31Getb2Gi+ApdZecpM8JWEDKeJ\n",
              "fXzbbs3Oc8uXwGjmbUwb2aktoFwIKQoQNCsMHgeBOJoKM/nxDyRaMsnKNaSMTmZGdnTvcaSCcTt7\n",
              "dcUb+nFAgul1S09lfaYdhwLEloq5X/HzaaG57VSmhHYWykqvWJFhpc2/yynWRDmflA4lJCxi+PnB\n",
              "Y3mbcZACiLs8BKK18aT0XVWYljm7ciYnkRNUo9ejmxA9BS8qfEBMouDdTLjErCo+VtS2uC60hS/D\n",
              "DRaP8SacLYuhxEieL/zq8pvdqeYjnvkTT/8MrtRIg9E2T9rntykK3IQxW1Mm35TE/edOUYHNUSz8\n",
              "QtHDRofXu8T+AO/61UbfV1LanZvpCm/LZz1ckkgAAABFQZ6fRRUsEP8ACKrbPw4GKn9BBrJC70sQ\n",
              "6uViSqWiVnuADi50oCWSw45y0EtJPGEDIn0IqQZBKekuvWf9HVXsnEg3kNgQAAAALAGevnRD/wAA\n",
              "lspseHnO4MrcrdaM1FMNRBILcsQVoF3WrAv//fQARFWSEvuhAAAAIQGeoGpD/wATWDaO70TKZbBJ\n",
              "hzGCyc7E23qafQKruWGJ2AAAAq5BmqRJqEFsmUwIKf/+1oywAcjXX4WgGbXCyQrChYQXG2amvGQK\n",
              "q87LaUT9SCd2XLAmxnxmTWu5/2Vj6DQCsUCFlGJRStoTgj0he/s4Uw0hCHF7psP0O1ETdAVxgMbZ\n",
              "KBYUJVcad5SwtNVYA/+Cnk6OFqhsWAC3G3mfI1KHVqtMsQ134eCRPpaKwY9tVr+Fqr8aagQpXe/A\n",
              "37zKXWjLBw73TDWZlLCEIkPlc9OBBGqSYRFkUp9jfv0iUWEDXGoV9a1LYJnt15FCZhuuYIA3p9N+\n",
              "CBC/Oj7GaDMKPCRguq09qzayric05BFDAh6a0uhT+lwaGuJv1mf+CyFN6eA001SUExsl61Am8mhN\n",
              "0P1v3k2qB1M2a6iibOgkJmq1jotNSb1cnAlVXzIXqRDZoNRLU+Sqx0+bD5qrsP2ndCX/+4LoO8se\n",
              "nxZyvigL3TN/gpGMnBk4cHWwViE6vYXuN7WQIGzdoseTHeU7k035yVxsvae50pk9/DSovQ1haYUS\n",
              "rqZZRNr3b+nkk1ltCUSH3z4qstQzu95J+/HX4TlDbuO6aYC3VzMnpQFzolP5K2t3DnhGXUjF3Wg5\n",
              "Y585qvikrkuh8Dxum5Pu3aFkVuSAAIzTtvWqjXUlB8vPqZdznm93t+zH4kdI+q10n+tDn9EB66xU\n",
              "feajRuFaqqJBdI3kRCKKuoPFYBFmOAuL6wtOdaD4E41+6U+kY6ZqPYxO7EPG+E0LLeeoKj83jicE\n",
              "T/ZyPNM5cVatNhVapMFIdfdSEgWUNOJ8QZyqe8a3POF/RNnNpUiwg6dbgjC4fzxfWjNjYGAwjRQl\n",
              "FJXayyduisNJY+BJ+0Xl7I64tqc2TuEh2sAxbyMx2fOivsgEgu6OhQLnxBzSc3L20fWs8eEWS6J0\n",
              "RSddvuZOaHtb7w8Y7aVgamPXYix5eQAAADRBnsJFFSwQ/wAIqoEI8YMOTemm7dAVUW5wk4XAjaFT\n",
              "zHcLPB2JryVaYPRYp2BNzBoEyoUvAAAAJwGe42pD/wATWXxeJKCErWHLocLMlDHegsA1N1cMdzJ4\n",
              "GLfXBPT5bQAAAwJBmuhJqEFsmUwIJ//+tSqABvJuogSKYgKJWIgiV05UJ8xxSp7BaGxqJdkOAedw\n",
              "xTEPdSJ8bXqDaz24SwGBx0EVKqBYIwZWOUQEBqH/Xai54yn9J3iO11x2IoacpWze84Im4yYAzPQH\n",
              "h7BDIul3CH/c1XM7EFmFcREektlDY5wl0AsHGJmPf/oVyOPhGdMt7H/G/InXQ2SXzE7PyJmnOVYW\n",
              "mBPbCPgaUYyowX5rXlzP5BTvXAyIBu0tjXEbhhbBMmWHsURIasZd0wSCgVtf0SkCUqpuu+BTLWye\n",
              "XPYC41dhvHG9JIGVWvsp3HMb3N+0pm1sbp0N3XiK4MoXiDlaHiZq89Nr73M8ZT0v6NbZOyG5Lldw\n",
              "vfjzhctxvIaBY7JDhkUCIPD4+1WbgN/K5Mjyg+WGwIQEuDWb8wLuiGtWry7KRJz7dGrufZFz08Sx\n",
              "Lbq+CySXC1dmcYYNUm0j6k9tuHuEyiAHn3DsanumkIpfwztxPJF8kwg8Ppqz/MNLXzCKXxw9GxSv\n",
              "PWKEJk8yp7KduuD4HqNPIRTgOTSCDkI/G5kl/fneG/r80SxENyiw4b3+LEYWyJUpH82OruDVfVmp\n",
              "PJvk64qQrayE+UVqk67cHFsyGPWrx2UL52buQ4P3/vat4q5UoV44hukrf2r0hMcZM0CJl+uoGr25\n",
              "58kioNJf/eI+awakujTIcjC4A3au3hVgUFC1zpY0sXwyt+9P51PQ/SEanJvAsC04ffCFWeEirv0l\n",
              "Mm2jr+vxZJeMn9lstGhJ1UueDkty7OxBrPDJKbyflCVbvnetkEPXkFZJLT49dW/72eYFqMK9Jb+j\n",
              "f9XKXIjNGxEXZTdUjFzdNHWuGo02EMuhMTdlaZRfrsDpg2dklM4xas43thJpC6GNUNlAhFZlJhg+\n",
              "WnrY3GWPSV6BFGk65rFYsgFbdGHaHyYUxtxfDmBaSDjgDLmzBRdY8t5AfXA1eZFJ6+DFDjI5hOyD\n",
              "9l6xdgIwaxz35fssU6mNWBfsA6iizPS+JGEp5xtQG6QAg2r0VnfgBwAAAF9BnwZFFSwQ/wAIqoIG\n",
              "S74esmyAzY4ROvNqz71wACOcETJaOEBxLtZ2OJRngtOYlWY0iZiBIfZ3hr6fbUtL6o3DqIHiPUbj\n",
              "fLeiOxIygidrxLlSAcvAUTf+mZKFqmBVbQAAAEYBnyV0Q/8AE1YtznnDQB4OlfRr3vCh3+T0HQCs\n",
              "PiuFFKwhzPesTjy34WgaNYVBPlMT2B4/kdxUiUANtG9kh/eg1nSimvXlAAAAMQGfJ2pD/wAS2DaF\n",
              "LRqvvTs+4v5zod+Sd6Fj2Qc06S6VFSUVxWvxQWjFGTzBDR9AfMgAAALBQZsrSahBbJlMCCn//taM\n",
              "sAHJtRXaNAD7kuR8SI6YalB9U4l/tqYsriRbV9GiHSUpmEzs34U9lKFLaOdR0dVbbAcKEu3AGKT3\n",
              "z23CiS9sPh1WIkEmxj774i6szbqGflr8ejY95g7D2W8a1LGN40y3UIRe6zat2rWXpx+ElFAMNT6h\n",
              "Wsso40REGBReRVz5F4zyq7jzOHUrEEVfbdRTzTfhWplB/hr6B/NWaS+Fglu6lo7zzBL/Osgcshbz\n",
              "8jlTLuqOicr725eorKvSG6xI7wM4qwgXL89ux7M6a152AS8IxGzrfRtTvdA5hU0rjgyUTMEOtNn7\n",
              "BJRFhLWRkeEPcMe0CgHN5Cbez5hYhrHXWWjgEL+IoNYkwrhpS6xcjKjtKBYOV7In11QyOUYznlxm\n",
              "ExNX5mAD6TcqR80F9Tz7k11NaQ0qAHdC+aSGmFWYLtcXbmjdS0P8Ns2HKDxizNqb9ExW57dHFlWc\n",
              "PXskWWRXSFPKlyH8Gy3+M2TKrL2a7rtUnGuASh3KwdLpq943MSxHh3pJREPtHWozOlOwqUcKFz5t\n",
              "EBS+2OHB10H93hUoEL967tbsIeE7TQVoUMjtzIivA68dxI/gAxsbxTVeg3JU6L4Un9EdupdkUoZS\n",
              "XfkoPJW08aYCOnV43YUXRZii/xy6Q/Nt5SwTpGBGTT9x0u0aC8ibuUNAMxus17S/+y6+yMaJgVvf\n",
              "klEh9at7HGdfHUHrwAA6TD7M76f4UI/D16+48EJ263JWlpvrC21bxB6554SbTKjZ8ufOiA14bDGg\n",
              "VMeXQ+Snx4t/k3DkKXJThyK+HVjy0xAtYhf997YYVrTxcL9EDFEN5oHTR4JL+SK0Zr1ZoZlFtzlg\n",
              "p7U+gn4+CZyuH+X1Bws8zm9t9++N4HQvjio+MBX3JsEcGt7xcO+3pkdNcS0k4jtQPIlXCj2qFq8f\n",
              "huN96e7gAAAAR0GfSUUVLBD/AAiqggaBM3odLcOZALs3+Z3VSqIDwUsBywGyaZ0MaatE4jh+5/8w\n",
              "7pFrk5sHRXYF9zz6//y4ALZEl2MIlpuBAAAAQAGfampD/wATV1HjdHk0AVenAe/Fe3oHedMxVuoe\n",
              "PrJYAVr4KtLNikLpEKUtXK/I4ymipZ91lpwDgZEWVBLdALYAAAJrQZtvSahBbJlMCCn//taMsAHH\n",
              "Q66ZAhwAE0ARBX4DLW863WJVrUj77228fgxY/doiDYaTP9gEO58i/Ny2MN6S03qz2EiJ8K7dXn0o\n",
              "/MEl0pIvCOphfBLT5AXQAc3+ueotN+Ek3HxatGJiDRBq45iX67S5onGTBB8C5s2mkrlDdVgOPYy1\n",
              "Vt8trfD7F00FRPSM+306mwvqSxafViyjnhTC9wYAkTLgSRoKOGhiSI4F4Z536J5Qum0aUkMK29Qu\n",
              "R3Ohzfn01aw4kYEL+2ySg7YYinCVd3FexXhiLOE42vuBpASD4l0gcirOcwwA14nDGe9luZ6f8pYT\n",
              "xgpazlgKw4WfdMD1bmeYRnqNWu98SSshQbn/ijpBFH3j+Dfb3zGrxW61XmlILWnhvBnTRhugR+ak\n",
              "NZS6yZH6W5Aegpo4L7h6V4Fbt5LAzxhQQxUlYvV0z/ETABKFoU49Fqbh0vJAPUA3mHfCVw7+aAM+\n",
              "JHngi31nH5MMd4gjgfckjK2OUGMnrHfG/Ms2abg2AagG3yuHvMSKvZFBZdgP9ZVq/mszPbZB5DsB\n",
              "t47mKGqeJA5Zo/R8VbMo0pG4XaC74JqJQlgTX/fKC5TGPoQHx0oe+6BCUu1D0ouDjViznBxuOk0O\n",
              "2cXOheCWaBVH4r8fUt6jkYx8wIk0TM7zgr2ywp9JvmGVtBS2ORsMr6W3MEXZSgT4ghJGb1sMEJrJ\n",
              "2AYIOc4/DJJl3xeMs2sJrdus6xxSmgBWbRW3Wqmr23aoVO/kWmMBucjNQG2n4JCZqeKQaC+44rTb\n",
              "lGwzmEaLUJJARLL2Xau94RM4Ozp10Kg21a2/hQhFHwAAADdBn41FFSwQ/wAIkB9pD2vaCT1jyuqB\n",
              "A5sT6W6VfOkyoeTAtWC/jF+Pe23WGSlnb72ADiAO2SGLAAAAQwGfrHRD/wATVhhWJK4qG2EabZbN\n",
              "pWc31O1EWTpm5RcQAqnwVaWbFIXSIS+5mJLWo/7uAOt3iEzTD41S13QWDR+mDVcAAAAmAZ+uakP/\n",
              "ABNSp+6ZTJLo64Hm2Dp3LdzFNqeykk7uPBGSZubBw5UAAAJKQZuzSahBbJlMCCf//rUqgAb62YkI\n",
              "a1EhQddUIigBRsB0FJoY+z6/1NRTvh5f/YM6H54wHte9LGDXbpW4WumU4uUf7/EbvExufCaxhD9Q\n",
              "UalwntXqPYUNWr4suGqwGf+SZBbyhzd3hc90zcmfrjFAQNwzguPzJzYmQc7ZAfEXWET+L/4zFW+F\n",
              "u1pYlc7t1DJbFwD8Rx+Mxt27TeDALX4QDMneJ0GKgbG6oopzxFwLR+qB0oM6TdNfV/Lj73GSOSzk\n",
              "aUguAvO1fugLyiRVgLt1Tia30LRmkXudkPLFGCiKLPV3nOoxA2r8leagS+n9YDFY2aWLILpIsneX\n",
              "Ssu/iaxxrEYsppZsLc1sin0OVQtW6/l/yZFGPHlc/KytwSv8+Bdv2xRedY5YyCWr6k/3PX5/Qx5f\n",
              "RTAVquO1FBgjAUT3XXVxLcvtIT1DmKc55qpFBoiYBwXPX8OdJMBxavFmsHQY5qMKQnnrlIoVA1bm\n",
              "qJEasiQAQD6YkXcBzJBJMT963IKqgPlb1+8NVg4I9sRmoaB/kiEwNS9LPijCnY83KvTO+UiO53Ho\n",
              "OnTQJR6g97KhbTxN9AkyFkIsLILFsWrbS3DURfGkGaDLY5T9ucprbUYolp6A+W/Vns2GpDM221OZ\n",
              "bWnSLecJGYWhaB3NGjLdS8n0H8I7Qj01yPNvuc5O8Pj+1NtQpPxSdBnJAQYu0PzZDAsRc+VdJimw\n",
              "NRKYmfKDgbZnAwLoVLQQwSZQmAsOMFEx0A4KxaPaWWIHKhUwqGSWT9cqi1mXV7t1BSB/gAAAAD9B\n",
              "n9FFFSwQ/wAIqwRTZg+0S1tETeES4KBrgEWrGpgpZUdqfQJ/+gABpw/zPrty168FSjsedsRdIR+4\n",
              "v2pDJuAAAAAtAZ/wdEP/ABNZNGt/8n6oLLSBJzrH4YPmtNh8TnQ3uruMEQM/vdOQAky/XbErAAAA\n",
              "fQGf8mpD/wATV4V0N00sz+vW5h57zR//UegdPvC6aPoowE0AJQIDYM10M4Ty3JVnaAnHwii97634\n",
              "rlWYwW3qMhx0ZVXAv0AoGmX5duCRcUR1P2nUGrBZJjb68JqBSSS8GsXvGB8tT9TyXHXB/y6+SwET\n",
              "mj8XhA+YyeLi0GSOAAACDUGb90moQWyZTAgn//61KoAG85p8ttTP4WOAIRPlK20YMOhjjclO+qOS\n",
              "Leqfvs61Drc5jz90BZnsum5MSYcbxy9QG29Zx/qq2Ds1h1UlOpoe8BM+1Pbp9hcgrK3oGkScZYXZ\n",
              "wH+VOxhmnQGQ4KFQcgKJD2RHPNlYbdW0pGNt13cTZbnjTjYK3DKnX3ovjoM/FVPcsKF7dKg5lQpq\n",
              "Ch/mby6ChOE6qWnsXnJXNiLLeupMpr4LgutHnn9YH7Rz9LjYbASWtsQkNjo50MyDYhgJxK3j5YYI\n",
              "q6sJSpaYu8xzxRV0X9VirRJO4Jf3+jrFwI5nitqdbLP7I0CnTqh+7LFhRwcmXaR9EbernqdfLxL8\n",
              "fFrbka3xDybIWgoOHUlYVmbWlrMnX6avNCRo54kziAVxhGYMbVp3UOSxUJVTrfZJrMMBePAurnvi\n",
              "7EewTov7ohQqAS+jLEwwDHVRth0gvI6pg8n5HLFdprrJpP0NMSpV3Z3YvVQAApk5HrDRJNK73Txc\n",
              "eWsWle2af9kuc6lkz2s2uSWVluOfghIbmvR3Z1t324fFBAixNOlVEnx1S0duk4NrHD/8Wy6OSf1H\n",
              "i+aAL0+9dg64CjMu/M4mBj4nkvVMOAS+lxYqveQzqLMyuDID6L6VR38/ltHa9faKYw+9c1+U6ruo\n",
              "Fovc4Yg+AMXRJv9YVCZCl9FPqqEx4hBaoIZbCgAAAD1BnhVFFSwQ/wAIqoIGgTO/82+sdwAESFHI\n",
              "jnlriIo97ZLMDGQyXIDDuoamfUDrlP0uQdkFgVkUBCSb9iHdAAAARgGeNHRD/wATVhhWJK4qG2FV\n",
              "riog0CoO/PRmrKq9pnmxKVACsb/ndfkfAvj6vymnhmcnScJK3acnKXrfskqc9GXXEoZgFYsAAAAn\n",
              "AZ42akP/ABLYNo9PW2XV4/r3fH8nmNWIg2ezIOI2KH0kTS5OKktpAAAB0EGaO0moQWyZTAgn//61\n",
              "KoAG+i3WWiDLRtkvYAhI96AejH8FYrCFThLXxR8+DeeNoodoba+3DLRjf4LgEYbjgsZ8ZQ6rdUdV\n",
              "9XyOHqDG9gi0qubsnqEcMqH9ZZD6xEkJAgGZPVG2qm6mN7c1YWAI3Nz9sOGp2mNO/zGPanP1ca+6\n",
              "iiSIQ1sST7R+C7l6inJyJs35GLr8qSLdFE/CRbdmdZHArrcdQiALRUc3v+zbSgpFL/3cpUVYkanC\n",
              "sxRpRexJF2sNd6OJeqtWpiLCJKVe663Xgxg7Ys7F8iS5gICCd1v7y0+MymcpQEK07mKX1UDl0hMr\n",
              "EOXhbWCkj9Mi9kb5YLSIf4zYVjsmOdOSqq7qA2of6jHDgrN/TpPoKJs/gdiRsiZp0VHU3CafSKY3\n",
              "CZmZc4Kgucual19A2acGzT27EaoXvQm/DFd/ZsmDwUpT1TqHtf6UWGSIvUw0lBVt8w3ckhRYI/w5\n",
              "WQTHs9POJ7c4SI6rrW0nSRk4JuwQUbW/QdsY+CCovUW0Hdvv+4mPGywoRk6LoHHRaC5xuLWajyqh\n",
              "dL6rlrzhxkIQGV69l09QcAD1GnYVYWuZm7f+T7XHqSbwsBogQ0aoc0OiwAPImB0BiOnHAAAAREGe\n",
              "WUUVLBD/AAig1YLPHmnt+7DJqLZzwhjWwZZIJhOeYWaY9r97Y0cVljg+ejGQjWqrIsBWcWLhThYp\n",
              "9UKr0ZogqRfEAAAALwGeeHRD/wATVi3JAM+UAOLcSXb8xlS+ctN+7y3oV2mENefRU6ER/cJDqN88\n",
              "26+5AAAAJQGeempD/wAS2DZ2rIP/+kqd6W1+Nf6JbnRJkcIPtrKQt7ng2oAAAAFrQZp/SahBbJlM\n",
              "CCX//rUqgAb6KjOxfa2CloADS2gtwf4OaTjJqRaJKzlUwPzOm9vw7HSJh3uKralXURcMVVOsfVdk\n",
              "zGy6Gru/PV0pL4OAQmEUgfA5PG4HEyK67WvRsujB6j/gvDbOIXlX7PdzxJn9vv60GHAD7UwDssWa\n",
              "DT86MWC0Mb6+qPYF13PUYe7iyRLCvxtXKVVNFL7WhVT1/QN9d0lK0D5eiHFCywgLKpyT/3e82KuE\n",
              "DuxkteX3gSls01x67okniyud7l5KfTM4JeCXCEZ8Au+/0IIH3PBZjyD5+NPu8o0b74eKLAVjzO8L\n",
              "q+7dki0vkasuau7PyagMN9QOL3ahHB9GBpY3vg4qSaWh0jlX5nb+6bT9/woSFieJaPvVDJuToVH0\n",
              "LsH0/Gd1RDsBeyq5rDBnHsLbHyBurTn4udl3ygl/DwMv4L32aQeVmTj32Xd6RobSI32+PHX/jEQr\n",
              "SFL0lIk6ODN3rIeBAAAAW0GenUUVLBD/AAiOFfwDQpU62YFFRLuNBTWK8anInIBMOgrhyGBwK3bG\n",
              "fNFhJH/YBAWQHa3Ym3LCGwAV7bSAyKDgXEyLEPh9/dMKNdH/zElQdeS1qITaJxV0wKcAAAAqAZ68\n",
              "dEP/ABLVyp8Q1kRRguDCmxmtf+ZK2o0sdYZNIPenmcJqgLw0mbOLAAAAJQGevmpD/wATV47xaTpp\n",
              "L3MIey+NTDbj6ifLNVofq9rDCH84kYAAAADbQZqjSahBbJlMCH///qmWAGymmqAHRRErpwGwpuIo\n",
              "aKWqGt8uHAPD+QEyhrs93cRvZXsQej3UHlVTfwdjz4v8+/0sSHQ3rRTglhQ2Wo6xn5pH4SZqu4pq\n",
              "4wRN4wda3Qd9qjWxiRCHfOTqT6XZNpVwA8zwjWIOXjLTzAsJVz5S7GNL5X9VdJzf9KpDlM0D85OT\n",
              "GOU4wHQdSmoWQJplLRWxFtClFGKCzfombLaQB2sGaHyTqHxyT2tMLWoUA6dyFDUaK4Ihw+shWUFa\n",
              "X0UouQQAVm9TzbZSxCROeqLbAAAAQUGewUUVLBD/ABFdeACEnhf9l7JZYd1JkF2qffD4HUkG2S6m\n",
              "mgJVPg9+ppF4QbFj/3EveAj8iG+rDsNQ/2UfdfpIAAAANgGe4HRD/wAmsZnlePzuaIaXGn9uFLvs\n",
              "IVoY9ggopDN1uWFhMvaBXsUkjRSN346VfyO+D+6b0QAAAEEBnuJqQ/8AJq0grD+Mz/0+rdT++ZQY\n",
              "RU4jeFv2el/1k4KGoevVTgxVs49eQSB+H7X1IsFftndvfEwBLBVTLTeiLgAAB6Ztb292AAAAbG12\n",
              "aGQAAAAAAAAAAAAAAAAAAAPoAABOIAABAAABAAAAAAAAAAAAAAAAAQAAAAAAAAAAAAAAAAAAAAEA\n",
              "AAAAAAAAAAAAAAAAAEAAAAAAAAAAAAAAAAAAAAAAAAAAAAAAAAAAAAAAAAACAAAG0HRyYWsAAABc\n",
              "dGtoZAAAAAMAAAAAAAAAAAAAAAEAAAAAAABOIAAAAAAAAAAAAAAAAAAAAAAAAQAAAAAAAAAAAAAA\n",
              "AAAAAAEAAAAAAAAAAAAAAAAAAEAAAAABsAAAASAAAAAAACRlZHRzAAAAHGVsc3QAAAAAAAAAAQAA\n",
              "TiAAABAAAAEAAAAABkhtZGlhAAAAIG1kaGQAAAAAAAAAAAAAAAAAACgAAAMgAFXEAAAAAAAtaGRs\n",
              "cgAAAAAAAAAAdmlkZQAAAAAAAAAAAAAAAFZpZGVvSGFuZGxlcgAAAAXzbWluZgAAABR2bWhkAAAA\n",
              "AQAAAAAAAAAAAAAAJGRpbmYAAAAcZHJlZgAAAAAAAAABAAAADHVybCAAAAABAAAFs3N0YmwAAACz\n",
              "c3RzZAAAAAAAAAABAAAAo2F2YzEAAAAAAAAAAQAAAAAAAAAAAAAAAAAAAAABsAEgAEgAAABIAAAA\n",
              "AAAAAAEAAAAAAAAAAAAAAAAAAAAAAAAAAAAAAAAAAAAAAAAAAAAY//8AAAAxYXZjQwFkABX/4QAY\n",
              "Z2QAFazZQbCWhAAAAwAEAAADACg8WLZYAQAGaOvjyyLAAAAAHHV1aWRraEDyXyRPxbo5pRvPAyPz\n",
              "AAAAAAAAABhzdHRzAAAAAAAAAAEAAABkAAAIAAAAABRzdHNzAAAAAAAAAAEAAAABAAAC+GN0dHMA\n",
              "AAAAAAAAXQAAAAEAABAAAAAAAQAAGAAAAAABAAAIAAAAAAMAABAAAAAAAQAAGAAAAAABAAAIAAAA\n",
              "AAEAABgAAAAAAQAACAAAAAABAAAQAAAAAAEAACAAAAAAAgAACAAAAAABAAAYAAAAAAEAAAgAAAAA\n",
              "AQAAKAAAAAABAAAQAAAAAAEAAAAAAAAAAQAACAAAAAABAAAYAAAAAAEAAAgAAAAAAQAAGAAAAAAB\n",
              "AAAIAAAAAAEAACAAAAAAAgAACAAAAAABAAAYAAAAAAEAAAgAAAAAAQAAKAAAAAABAAAQAAAAAAEA\n",
              "AAAAAAAAAQAACAAAAAABAAAYAAAAAAEAAAgAAAAAAQAAKAAAAAABAAAQAAAAAAEAAAAAAAAAAQAA\n",
              "CAAAAAABAAAoAAAAAAEAABAAAAAAAQAAAAAAAAABAAAIAAAAAAEAACgAAAAAAQAAEAAAAAABAAAA\n",
              "AAAAAAEAAAgAAAAAAQAAIAAAAAACAAAIAAAAAAEAACgAAAAAAQAAEAAAAAABAAAAAAAAAAEAAAgA\n",
              "AAAAAQAAKAAAAAABAAAQAAAAAAEAAAAAAAAAAQAACAAAAAABAAAoAAAAAAEAABAAAAAAAQAAAAAA\n",
              "AAABAAAIAAAAAAEAACgAAAAAAQAAEAAAAAABAAAAAAAAAAEAAAgAAAAAAQAAIAAAAAACAAAIAAAA\n",
              "AAEAACgAAAAAAQAAEAAAAAABAAAAAAAAAAEAAAgAAAAAAQAAIAAAAAACAAAIAAAAAAEAACgAAAAA\n",
              "AQAAEAAAAAABAAAAAAAAAAEAAAgAAAAAAQAAKAAAAAABAAAQAAAAAAEAAAAAAAAAAQAACAAAAAAB\n",
              "AAAoAAAAAAEAABAAAAAAAQAAAAAAAAABAAAIAAAAAAEAACgAAAAAAQAAEAAAAAABAAAAAAAAAAEA\n",
              "AAgAAAAAAQAAKAAAAAABAAAQAAAAAAEAAAAAAAAAAQAACAAAAAABAAAoAAAAAAEAABAAAAAAAQAA\n",
              "AAAAAAABAAAIAAAAABxzdHNjAAAAAAAAAAEAAAABAAAAZAAAAAEAAAGkc3RzegAAAAAAAAAAAAAA\n",
              "ZAAAF9sAAAUpAAABLgAAAvYAAAKAAAACbgAAA3sAAACUAAAC4gAAAGgAAAHJAAADOAAAAKIAAABZ\n",
              "AAAC+QAAAF8AAANnAAAAngAAADgAAAA3AAACwAAAADMAAALhAAAARgAAAuoAAABXAAAAPwAAAi8A\n",
              "AAB5AAADuwAAAH8AAABIAAAAVgAAAhoAAAAuAAADLwAAAHEAAABQAAAALAAAA+wAAABcAAAAKwAA\n",
              "AC4AAAL+AAAAZwAAAFcAAABIAAAC2wAAADUAAAAuAAADUAAAAFcAAABGAAAAPwAAAxUAAACOAAAA\n",
              "NAAAAD4AAAMiAAAAXgAAADYAAAAuAAADawAAAEkAAAAwAAAAJQAAArIAAAA4AAAAKwAAAwYAAABj\n",
              "AAAASgAAADUAAALFAAAASwAAAEQAAAJvAAAAOwAAAEcAAAAqAAACTgAAAEMAAAAxAAAAgQAAAhEA\n",
              "AABBAAAASgAAACsAAAHUAAAASAAAADMAAAApAAABbwAAAF8AAAAuAAAAKQAAAN8AAABFAAAAOgAA\n",
              "AEUAAAAUc3RjbwAAAAAAAAABAAAALAAAAGJ1ZHRhAAAAWm1ldGEAAAAAAAAAIWhkbHIAAAAAAAAA\n",
              "AG1kaXJhcHBsAAAAAAAAAAAAAAAALWlsc3QAAAAlqXRvbwAAAB1kYXRhAAAAAQAAAABMYXZmNTcu\n",
              "ODMuMTAw\n",
              "\">\n",
              "  Your browser does not support the video tag.\n",
              "</video>"
            ],
            "text/plain": [
              "<IPython.core.display.HTML object>"
            ]
          },
          "metadata": {
            "tags": []
          },
          "execution_count": 215
        }
      ]
    }
  ]
}